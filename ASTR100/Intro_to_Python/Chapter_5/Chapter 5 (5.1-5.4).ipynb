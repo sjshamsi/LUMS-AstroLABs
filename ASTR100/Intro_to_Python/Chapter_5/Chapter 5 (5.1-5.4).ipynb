{
 "cells": [
  {
   "cell_type": "markdown",
   "metadata": {},
   "source": [
    "# Chapter 5: Astronomical Data Analysis"
   ]
  },
  {
   "cell_type": "markdown",
   "metadata": {},
   "source": [
    "## Spectral analysis"
   ]
  },
  {
   "cell_type": "code",
   "execution_count": null,
   "metadata": {},
   "outputs": [],
   "source": [
    "from astropy.io import fits\n",
    "import matplotlib.pyplot as plt\n",
    "import numpy as np"
   ]
  },
  {
   "cell_type": "code",
   "execution_count": null,
   "metadata": {},
   "outputs": [],
   "source": [
    "file = \"data_files/ADP.2014-10-29T09_42_08.747.fits\"\n",
    "fits_data = fits.open(file)\n",
    "fits_data.info()"
   ]
  },
  {
   "cell_type": "code",
   "execution_count": null,
   "metadata": {},
   "outputs": [],
   "source": [
    "print(fits_data[1].columns)"
   ]
  },
  {
   "cell_type": "code",
   "execution_count": null,
   "metadata": {},
   "outputs": [],
   "source": [
    "scidata = fits_data[1].data\n",
    "fits_data.close()"
   ]
  },
  {
   "cell_type": "code",
   "execution_count": null,
   "metadata": {},
   "outputs": [],
   "source": [
    "type(scidata)"
   ]
  },
  {
   "cell_type": "code",
   "execution_count": null,
   "metadata": {},
   "outputs": [],
   "source": [
    "isinstance(scidata, np.ndarray)"
   ]
  },
  {
   "cell_type": "code",
   "execution_count": null,
   "metadata": {},
   "outputs": [],
   "source": [
    "scidata.shape"
   ]
  },
  {
   "cell_type": "code",
   "execution_count": null,
   "metadata": {},
   "outputs": [],
   "source": [
    "wavelength = scidata[0][0]\n",
    "flux = scidata[0][4]\n",
    "flux_err = scidata[0][5]"
   ]
  },
  {
   "cell_type": "code",
   "execution_count": null,
   "metadata": {},
   "outputs": [],
   "source": [
    "wavelength.size"
   ]
  },
  {
   "cell_type": "code",
   "execution_count": null,
   "metadata": {},
   "outputs": [],
   "source": [
    "norm = np.max(flux)\n",
    "flux = flux/norm\n",
    "flux_err = flux_err/norm\n",
    "wavelength = wavelength*0.1"
   ]
  },
  {
   "cell_type": "code",
   "execution_count": null,
   "metadata": {},
   "outputs": [],
   "source": [
    "%matplotlib inline \n",
    "\n",
    "plt.plot(wavelength, flux, linestyle='-' , color='navy')\n",
    "plt.xlabel(\"$\\lambda$ / nm\")\n",
    "plt.ylabel(\"Flux / ADU\")\n",
    "plt.xlim(587,590)\n",
    "\n",
    "plt.savefig(\"spectrum_full.pdf\")"
   ]
  },
  {
   "cell_type": "markdown",
   "metadata": {},
   "source": [
    "## Transit light curves"
   ]
  },
  {
   "cell_type": "code",
   "execution_count": null,
   "metadata": {},
   "outputs": [],
   "source": [
    "import numpy as np\n",
    "\n",
    "data = np.loadtxt(\"data_files/tres2_data.dat\")\n",
    "\n",
    "mjd = data[:,0]\n",
    "flux = data[:,1]\n",
    "err = data[:,2]"
   ]
  },
  {
   "cell_type": "code",
   "execution_count": null,
   "metadata": {},
   "outputs": [],
   "source": [
    "mjd[-1]"
   ]
  },
  {
   "cell_type": "code",
   "execution_count": null,
   "metadata": {},
   "outputs": [],
   "source": [
    "import matplotlib.pyplot as plt\n",
    "%matplotlib inline \n",
    "\n",
    "plt.errorbar(mjd, flux, yerr=err, ecolor='steelblue', \n",
    "             linestyle='none', marker='o', color='navy')\n",
    "plt.xlabel(\"MJD\")\n",
    "plt.ylabel(\"Flux / ADU\")\n",
    "\n",
    "plt.savefig(\"tres2_lightcurve.pdf\")"
   ]
  },
  {
   "cell_type": "code",
   "execution_count": null,
   "metadata": {},
   "outputs": [],
   "source": [
    "100/(24*60)"
   ]
  },
  {
   "cell_type": "code",
   "execution_count": null,
   "metadata": {},
   "outputs": [],
   "source": [
    "T1 = 5.645e4 + 0.445\n",
    "T4 = 5.645e4 + 0.52"
   ]
  },
  {
   "cell_type": "code",
   "execution_count": null,
   "metadata": {},
   "outputs": [],
   "source": [
    "norm1 = np.mean(flux[mjd<T1]) # before transit\n",
    "norm2 = np.mean(flux[mjd>T4]) # after transit\n",
    "norm = 0.5*(norm1+norm2)\n",
    "\n",
    "print(f\"Flux normalization factor: {norm:.3f}\")\n",
    "\n",
    "# normalize fluxes\n",
    "flux /= norm\n",
    "err /= norm"
   ]
  },
  {
   "cell_type": "code",
   "execution_count": null,
   "metadata": {},
   "outputs": [],
   "source": [
    "# width and offset of sample window\n",
    "offset = 7\n",
    "width = 2*offset + 1\n",
    "\n",
    "# compute moving average\n",
    "flux_smoothed = np.ones(flux.size - width + 1)\n",
    "for i,val in enumerate(flux_smoothed):\n",
    "    flux_smoothed[i] = np.sum(flux[i:i+width])/width\n",
    "\n",
    "flux_min = np.min(flux_smoothed)\n",
    "print(f\"Minimum flux: {flux_min:.3f}\")"
   ]
  },
  {
   "cell_type": "code",
   "execution_count": null,
   "metadata": {},
   "outputs": [],
   "source": [
    "plt.errorbar(mjd, flux, yerr=err, ecolor='steelblue', \n",
    "             linestyle='none', marker='o', color='navy', zorder=1)\n",
    "plt.xlim(np.min(mjd), np.max(mjd))\n",
    "plt.xlabel(\"MJD\")\n",
    "plt.ylabel(\"rel. flux\")\n",
    "\n",
    "# smoothed flux\n",
    "plt.plot(mjd[offset:-offset], flux_smoothed, \n",
    "         lw=2, color='orange', zorder=2)\n",
    "\n",
    "# ingress, egress, and minimum flux\n",
    "plt.axvline(T1, color='crimson', lw=1, linestyle=':')\n",
    "plt.axvline(T4, color='crimson', lw=1, linestyle=':')\n",
    "plt.axhline(flux_min, lw=1, linestyle='--', color='black')\n",
    "\n",
    "plt.savefig(\"tres2_lightcurve_smooth.pdf\")"
   ]
  },
  {
   "cell_type": "code",
   "execution_count": null,
   "metadata": {},
   "outputs": [],
   "source": [
    "# ratio of transit duration to period\n",
    "P = 2.47063\n",
    "x = np.pi*(T4-T1)/P"
   ]
  },
  {
   "cell_type": "code",
   "execution_count": null,
   "metadata": {},
   "outputs": [],
   "source": [
    "a = 0.98**(1/3)*(P/365.25)**(2/3)\n",
    "print(f\"Semi-major axis: {a:.5f} AU\")"
   ]
  },
  {
   "cell_type": "code",
   "execution_count": null,
   "metadata": {},
   "outputs": [],
   "source": [
    "from scipy.constants import au\n",
    "from astropy.constants import R_jup\n",
    "\n",
    "delta_flux = 1 - flux_min \n",
    "\n",
    "R_p = a*au * x / (1 + (1/delta_flux)**(1/2))\n",
    "print(\"Radius: {:.2f} R_jup\".format(R_p/R_jup.value))"
   ]
  },
  {
   "cell_type": "code",
   "execution_count": null,
   "metadata": {},
   "outputs": [],
   "source": [
    "fct = np.sin(np.radians(83.6))\n",
    "print(fct)\n",
    "\n",
    "R_p = a*au * (1 - fct*(np.cos(2*x)))**(1/2) / (1 + (1/delta_flux)**(1/2))\n",
    "print(\"Radius: {:.2f} R_jup\".format(R_p/R_jup.value))"
   ]
  },
  {
   "cell_type": "markdown",
   "metadata": {},
   "source": [
    "## Survey data sets"
   ]
  },
  {
   "cell_type": "markdown",
   "metadata": {},
   "source": [
    "Retrieve a dataset per  [ADQL-Query](https://gea.esac.esa.int/archive-help/adql/index.html) from the database of the [Gaia-Archivs](https://gea.esac.esa.int/archive/). Navigate to the *Search* page of the archive's website and select the *Advanced (ADQL)* tab. Enter the following ADQL-query and download the dataset in CVS format."
   ]
  },
  {
   "cell_type": "markdown",
   "metadata": {},
   "source": [
    "```\n",
    "SELECT l, b, parallax, parallax_over_error, radial_velocity, phot_g_mean_mag\n",
    "FROM gaiadr2.gaia_source\n",
    "WHERE phot_g_mean_mag<12 AND ABS(radial_velocity)>0 AND parallax>=1.0 AND parallax_over_error>=10\n",
    "```"
   ]
  },
  {
   "cell_type": "markdown",
   "metadata": {},
   "source": [
    "Copy or move the downloaded file to your work directory."
   ]
  },
  {
   "cell_type": "code",
   "execution_count": null,
   "metadata": {},
   "outputs": [],
   "source": [
    "import numpy as np\n",
    "import matplotlib.pyplot as plt"
   ]
  },
  {
   "cell_type": "code",
   "execution_count": null,
   "metadata": {},
   "outputs": [],
   "source": [
    "data = np.loadtxt(\"gaia_12mag_1kpc-result.csv\", # you might need to adjust the file name\n",
    "                  dtype='float64', usecols=(0, 1, 2, 4), \n",
    "                  delimiter=',', skiprows=1)"
   ]
  },
  {
   "cell_type": "code",
   "execution_count": null,
   "metadata": {},
   "outputs": [],
   "source": [
    "data.shape"
   ]
  },
  {
   "cell_type": "code",
   "execution_count": null,
   "metadata": {
    "scrolled": true
   },
   "outputs": [],
   "source": [
    "d = 1/data[:,2]\n",
    "\n",
    "fig = plt.figure(figsize=(6, 4), dpi=300)\n",
    "\n",
    "plt.hist(d, 100)\n",
    "plt.xlabel('d / kpc')\n",
    "plt.ylabel('N')\n",
    "plt.savefig('d_histogram.png')"
   ]
  },
  {
   "cell_type": "code",
   "execution_count": null,
   "metadata": {},
   "outputs": [],
   "source": [
    "bin_width = 2.5 # in km/s\n",
    "rv_lim = 140    # upper limit\n",
    "bins = np.arange(-rv_lim, rv_lim+bin_width, bin_width)\n",
    "\n",
    "fig = plt.figure(figsize=(6, 4), dpi=300)\n",
    "\n",
    "rv_histogram = plt.hist(data[:,3], bins=bins)\n",
    "plt.xlabel('radial velocity / km/s')\n",
    "plt.ylabel('N')\n",
    "plt.savefig('rv_histogram.png')"
   ]
  },
  {
   "cell_type": "code",
   "execution_count": null,
   "metadata": {},
   "outputs": [],
   "source": [
    "x = bins[:-1] + bin_width/2 \n",
    "y = rv_histogram[0]"
   ]
  },
  {
   "cell_type": "code",
   "execution_count": null,
   "metadata": {},
   "outputs": [],
   "source": [
    "for i in range(len(x)):\n",
    "    print(x[i], y[i])"
   ]
  },
  {
   "cell_type": "code",
   "execution_count": null,
   "metadata": {},
   "outputs": [],
   "source": [
    "import scipy.optimize as opt\n",
    "\n",
    "# definition of fit function\n",
    "def gaussian(x, y0, x0, sigma_sqr):\n",
    "    return y0*np.exp(-(x-x0)**2/(2*sigma_sqr))\n",
    "\n",
    "params, params_covariance = opt.curve_fit(gaussian, x, y)\n",
    "\n",
    "print(\"Parameters best-fit:\", params)\n",
    "print(\"Parameters standard deviation:\", np.sqrt(np.diag(params_covariance)))"
   ]
  },
  {
   "cell_type": "code",
   "execution_count": null,
   "metadata": {},
   "outputs": [],
   "source": [
    "y_gauss = gaussian(x, params[0], params[1], params[2])\n",
    "\n",
    "fig = plt.figure(figsize=(6, 4), dpi=300)\n",
    "\n",
    "plt.hist(data[:,3], bins=bins)\n",
    "plt.plot(x, y_gauss, color='red')\n",
    "plt.xlim(-100,100)\n",
    "plt.xlabel('radial velocity / km/s')\n",
    "plt.ylabel('N')\n",
    "plt.savefig('rv_histo_fit.png')"
   ]
  },
  {
   "cell_type": "code",
   "execution_count": null,
   "metadata": {},
   "outputs": [],
   "source": [
    "from scipy.stats import ks_2samp\n",
    "\n",
    "ks_2samp(y, y_gauss)"
   ]
  },
  {
   "cell_type": "markdown",
   "metadata": {},
   "source": [
    "Plot density as a function of distance within the cone"
   ]
  },
  {
   "cell_type": "code",
   "execution_count": null,
   "metadata": {},
   "outputs": [],
   "source": [
    "rv = data[:,3]\n",
    "redshift, blueshift = data[rv > 0], data[rv <= 0]\n",
    "\n",
    "print(\"Redshifted stars:\", len(redshift))\n",
    "print(\"Blueshifted stars:\", len(blueshift))"
   ]
  },
  {
   "cell_type": "code",
   "execution_count": null,
   "metadata": {},
   "outputs": [],
   "source": [
    "redshift[::100,1].size"
   ]
  },
  {
   "cell_type": "code",
   "execution_count": null,
   "metadata": {},
   "outputs": [],
   "source": [
    "fig = plt.figure(figsize=(10, 2.5), dpi=300)\n",
    "ax = fig.add_subplot(111)\n",
    "\n",
    "stride = 10\n",
    "\n",
    "plt.scatter(blueshift[::stride,0], blueshift[::stride,1], \n",
    "            s=1, marker='.', color='blue', alpha=0.1)\n",
    "plt.scatter(redshift[::stride,0], redshift[::stride,1], \n",
    "            s=1, marker='.', color='red', alpha=0.1)\n",
    "plt.xlabel('longitude [deg]')\n",
    "plt.ylabel('lat. [deg]')\n",
    "plt.xlim(0,360)\n",
    "plt.ylim(-30,30)\n",
    "\n",
    "# set ticks on axis in 30 degree intervals\n",
    "plt.xticks([30*n for n in range(13)])\n",
    "plt.yticks([-30, 0, 30])\n",
    "\n",
    "# ensure that degrees are displayed equally along both axes\n",
    "ax.set_aspect('equal')\n",
    "\n",
    "plt.savefig('rv_map.png')"
   ]
  },
  {
   "cell_type": "markdown",
   "metadata": {},
   "source": [
    "## Image processing"
   ]
  },
  {
   "cell_type": "code",
   "execution_count": null,
   "metadata": {},
   "outputs": [],
   "source": [
    "import numpy as np\n",
    "import matplotlib.pyplot as plt\n",
    "from astropy.io import fits"
   ]
  },
  {
   "cell_type": "code",
   "execution_count": null,
   "metadata": {},
   "outputs": [],
   "source": [
    "m51r_file = \"data_files/h_m51_h_s20_drz_sci.fits\"\n",
    "m51r = fits.open(m51r_file)\n",
    "m51r.info()"
   ]
  },
  {
   "cell_type": "code",
   "execution_count": null,
   "metadata": {},
   "outputs": [],
   "source": [
    "m51r_data = m51r[0].data\n",
    "m51r.close()"
   ]
  },
  {
   "cell_type": "code",
   "execution_count": null,
   "metadata": {},
   "outputs": [],
   "source": [
    "print(np.max(m51r_data))\n",
    "print(np.min(m51r_data))\n",
    "print(np.mean(m51r_data))\n",
    "print(np.median(m51r_data))\n",
    "print(np.std(m51r_data))"
   ]
  },
  {
   "cell_type": "code",
   "execution_count": null,
   "metadata": {},
   "outputs": [],
   "source": [
    "plt.hist(m51r_data.flatten(), log=True, bins=100)\n",
    "plt.xlabel('Signal')\n",
    "plt.ylabel('N')\n",
    "plt.savefig('m51_histogram.png', dpi=300)"
   ]
  },
  {
   "cell_type": "code",
   "execution_count": null,
   "metadata": {},
   "outputs": [],
   "source": [
    "plt.imshow(m51r_data, cmap='gray')\n",
    "plt.clim(0,0.1)\n",
    "plt.colorbar()\n",
    "plt.savefig('m51r.png', dpi=300)"
   ]
  },
  {
   "cell_type": "code",
   "execution_count": null,
   "metadata": {},
   "outputs": [],
   "source": [
    "m51g_file = \"data_files/h_m51_v_s20_drz_sci.fits\"\n",
    "m51g = fits.open(m51g_file)\n",
    "m51g_data = m51g[0].data\n",
    "m51g.close()\n",
    "\n",
    "m51b_file = \"data_files/h_m51_b_s20_drz_sci.fits\"\n",
    "m51b = fits.open(m51b_file)\n",
    "m51b_data = m51b[0].data\n",
    "m51b.close()"
   ]
  },
  {
   "cell_type": "code",
   "execution_count": null,
   "metadata": {},
   "outputs": [],
   "source": [
    "alpha = 0.15\n",
    "\n",
    "m51rgb = np.zeros([2150, 3050, 3])\n",
    "\n",
    "m51rgb[:,:,0] = m51r_data.transpose() / np.mean(m51r_data)\n",
    "m51rgb[:,:,1] = m51g_data.transpose() / np.mean(m51g_data) \n",
    "m51rgb[:,:,2] = m51b_data.transpose() / np.mean(m51b_data)\n",
    "\n",
    "m51rgb *= 255*alpha\n",
    "m51rgb = np.where(m51rgb > 255, 255, m51rgb)\n",
    "\n",
    "m51rgb.dtype"
   ]
  },
  {
   "cell_type": "code",
   "execution_count": null,
   "metadata": {},
   "outputs": [],
   "source": [
    "from PIL import Image\n",
    "\n",
    "# convert to 8-bit unsigned integers and turn array into image\n",
    "img = Image.fromarray(m51rgb.astype(np.uint8))\n",
    "img.show()\n",
    "img.save('m51rgb.png')"
   ]
  },
  {
   "cell_type": "code",
   "execution_count": null,
   "metadata": {},
   "outputs": [],
   "source": []
  }
 ],
 "metadata": {
  "kernelspec": {
   "display_name": "Python 3",
   "language": "python",
   "name": "python3"
  },
  "language_info": {
   "codemirror_mode": {
    "name": "ipython",
    "version": 3
   },
   "file_extension": ".py",
   "mimetype": "text/x-python",
   "name": "python",
   "nbconvert_exporter": "python",
   "pygments_lexer": "ipython3",
   "version": "3.7.9"
  }
 },
 "nbformat": 4,
 "nbformat_minor": 2
}
