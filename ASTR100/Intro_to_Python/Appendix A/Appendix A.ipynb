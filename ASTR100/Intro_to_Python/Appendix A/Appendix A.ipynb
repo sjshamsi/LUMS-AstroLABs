{
 "cells": [
  {
   "cell_type": "markdown",
   "metadata": {},
   "source": [
    "# Appendix A: Object-Oriented Programming"
   ]
  },
  {
   "cell_type": "code",
   "execution_count": null,
   "metadata": {},
   "outputs": [],
   "source": [
    "%load_ext autoreload\n",
    "%autoreload 1\n",
    "%aimport nbody\n",
    "\n",
    "from astropy.constants import M_sun\n",
    "\n",
    "body1 = nbody.Body(2.06*M_sun.value, \"Sirus A\")"
   ]
  },
  {
   "cell_type": "code",
   "execution_count": null,
   "metadata": {},
   "outputs": [],
   "source": [
    "print(\"Mass of\", body1.name, f\"= {body1.m:.2e} kg\")"
   ]
  },
  {
   "cell_type": "code",
   "execution_count": null,
   "metadata": {},
   "outputs": [],
   "source": [
    "body2 = nbody.Body(1.02*M_sun.value, \"Sirus B\")\n",
    "\n",
    "body2.print_mass()"
   ]
  },
  {
   "cell_type": "code",
   "execution_count": null,
   "metadata": {},
   "outputs": [],
   "source": [
    "from math import pi\n",
    "from scipy.constants import au,G\n",
    "\n",
    "M1 = body1.m\n",
    "M2 = body2.m\n",
    "\n",
    "# orbital parameters\n",
    "a = 2.64*7.4957*au\n",
    "e = 0.5914         \n",
    "T = pi * (G*(M1 + M2))**(-1/2) * a**(3/2)\n",
    "\n",
    "# periastron\n",
    "d = a*(1 - e)\n",
    "v = (G*(M1 + M2)*(2/d - 1/a))**(1/2) # vis-viva eq.\n",
    "\n",
    "body1.set_state([d*M2/(M1 + M2), 0], [0, -v*M2/(M1 + M2)])"
   ]
  },
  {
   "cell_type": "code",
   "execution_count": null,
   "metadata": {},
   "outputs": [],
   "source": [
    "body1.set_state([d*M2/(M1 + M2), 0, 0], \n",
    "                [0, -v*M2/(M1 + M2), 0])\n",
    "body2.set_state([-d*M1/(M1 + M2), 0, 0], \n",
    "                [0, v*M1/(M1 + M2), 0])"
   ]
  },
  {
   "cell_type": "code",
   "execution_count": null,
   "metadata": {},
   "outputs": [],
   "source": [
    "print(body1.pos())"
   ]
  },
  {
   "cell_type": "code",
   "execution_count": null,
   "metadata": {},
   "outputs": [],
   "source": [
    "print(\"{:.2f} AU, {:.2f} AU\".\n",
    "      format(d/au, body1.distance(body2)/au))"
   ]
  },
  {
   "cell_type": "code",
   "execution_count": null,
   "metadata": {},
   "outputs": [],
   "source": [
    "print(nbody.Body.distance(body1, body2)/au)"
   ]
  },
  {
   "cell_type": "code",
   "execution_count": null,
   "metadata": {},
   "outputs": [],
   "source": [
    "import numpy as np\n",
    "\n",
    "n_rev = 3      # number of revolutions\n",
    "n = n_rev*500  # number of time steps\n",
    "dt = n_rev*T/n # time step\n",
    "t = np.arange(0, (n+1)*dt, dt)"
   ]
  },
  {
   "cell_type": "code",
   "execution_count": null,
   "metadata": {},
   "outputs": [],
   "source": [
    "orbit1 = np.zeros([n+1,3])\n",
    "orbit2 = np.zeros([n+1,3])\n",
    "\n",
    "# integrate two-body problem\n",
    "for i in range(n+1):\n",
    "    orbit1[i] = body1.pos()\n",
    "    orbit2[i] = body2.pos()\n",
    "    \n",
    "    nbody.Body.two_body_step(body1, body2, dt)"
   ]
  },
  {
   "cell_type": "code",
   "execution_count": null,
   "metadata": {},
   "outputs": [],
   "source": [
    "import matplotlib.pyplot as plt\n",
    "%matplotlib inline\n",
    "\n",
    "fig = plt.figure(figsize=(6, 6*25/35), dpi=100)\n",
    "\n",
    "plt.plot([0], [0], '+k')  # center of mass\n",
    "plt.plot(orbit1[:,0]/au, orbit1[:,1]/au, color='red', label='Sirius A')\n",
    "plt.plot(orbit2[:,0]/au, orbit2[:,1]/au, color='blue', label='Sirius B')\n",
    "\n",
    "plt.xlabel(\"$x$ [AU]\")\n",
    "plt.xlim(-12.5,22.5)\n",
    "plt.ylabel(\"$y$ [AU]\")\n",
    "plt.ylim(-12.5,12.5)\n",
    "plt.legend(loc='upper left')"
   ]
  },
  {
   "cell_type": "code",
   "execution_count": null,
   "metadata": {},
   "outputs": [],
   "source": []
  }
 ],
 "metadata": {
  "kernelspec": {
   "display_name": "Python 3",
   "language": "python",
   "name": "python3"
  },
  "language_info": {
   "codemirror_mode": {
    "name": "ipython",
    "version": 3
   },
   "file_extension": ".py",
   "mimetype": "text/x-python",
   "name": "python",
   "nbconvert_exporter": "python",
   "pygments_lexer": "ipython3",
   "version": "3.7.9"
  }
 },
 "nbformat": 4,
 "nbformat_minor": 2
}
