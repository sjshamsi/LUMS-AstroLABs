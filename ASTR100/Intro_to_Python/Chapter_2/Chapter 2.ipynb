{
 "cells": [
  {
   "cell_type": "markdown",
   "metadata": {},
   "source": [
    "# Chapter 2: Computing and Displaying Data"
   ]
  },
  {
   "cell_type": "markdown",
   "metadata": {},
   "source": [
    "## Spherical astronomy"
   ]
  },
  {
   "cell_type": "markdown",
   "metadata": {},
   "source": [
    "### Declination of the Sun"
   ]
  },
  {
   "cell_type": "code",
   "execution_count": null,
   "metadata": {},
   "outputs": [],
   "source": [
    "import math\n",
    "\n",
    "N = 171 # day of 1st solstice\n",
    "omega = 2*math.pi/365.24 # angular velocity in rad/day\n",
    "ecl = math.radians(23.44) # obliquity of the ecliptic\n",
    "\n",
    "# approximate expression for declination of the Sun\n",
    "delta = -math.asin(math.sin(ecl)*math.cos(omega*(N+10)))\n",
    "print(\"declination = {:.2f} deg\".format(math.degrees(delta)))"
   ]
  },
  {
   "cell_type": "code",
   "execution_count": null,
   "metadata": {},
   "outputs": [],
   "source": [
    "import numpy as np\n",
    "\n",
    "# equinoxes and solstices in 2020\n",
    "N = np.array([79, 171, 265, 355])"
   ]
  },
  {
   "cell_type": "code",
   "execution_count": null,
   "metadata": {},
   "outputs": [],
   "source": [
    "print(N)\n",
    "print(N.size)\n",
    "print(N.dtype)"
   ]
  },
  {
   "cell_type": "code",
   "execution_count": null,
   "metadata": {},
   "outputs": [],
   "source": [
    "print(N[1])\n",
    "print(N[-3])"
   ]
  },
  {
   "cell_type": "code",
   "execution_count": null,
   "metadata": {},
   "outputs": [],
   "source": [
    "delta = -np.arcsin(math.sin(ecl)*np.cos(omega*(N+10)))\n",
    "print(np.degrees(delta))"
   ]
  },
  {
   "cell_type": "code",
   "execution_count": null,
   "metadata": {},
   "outputs": [],
   "source": [
    "# add 10 to each element of N\n",
    "tmp = N+10\n",
    "print(tmp)\n",
    "print(tmp.dtype)\n",
    "\n",
    "# multipy by omega\n",
    "tmp = omega*tmp\n",
    "print(tmp)\n",
    "print(tmp.dtype)\n",
    "\n",
    "# calculate the cosine of each element in the resulting array \n",
    "# and multipy by the sine of the obliquity\n",
    "tmp = math.sin(ecl)*np.cos(tmp)\n",
    "print(tmp)\n",
    "\n",
    "# calculate negative arcsine of each element\n",
    "delta = -np.arcsin(tmp)\n",
    "print(np.degrees(delta))"
   ]
  },
  {
   "cell_type": "code",
   "execution_count": null,
   "metadata": {},
   "outputs": [],
   "source": [
    "delta = -np.asin(tmp) # arcsine in numpy has a different identifier than in math module!"
   ]
  },
  {
   "cell_type": "code",
   "execution_count": null,
   "metadata": {},
   "outputs": [],
   "source": [
    "print(\"declination = {:.2f} deg\".\\\n",
    "      format(math.degrees(delta[1])))"
   ]
  },
  {
   "cell_type": "code",
   "execution_count": null,
   "metadata": {},
   "outputs": [],
   "source": [
    "for val in delta:\n",
    "    print(\"declination = {:6.2f} deg\".format(math.degrees(val)))"
   ]
  },
  {
   "cell_type": "code",
   "execution_count": null,
   "metadata": {},
   "outputs": [],
   "source": [
    "print(\"i  day  delta [deg]\")\n",
    "for i,val in enumerate(delta):\n",
    "    print(\"{1:d}  {2:3d}  {0:8.2f}\".format(math.degrees(val),i,N[i]))"
   ]
  },
  {
   "cell_type": "code",
   "execution_count": null,
   "metadata": {},
   "outputs": [],
   "source": [
    "print(\"day  delta [deg]\")\n",
    "for row in zip(N,delta):\n",
    "    print(\"{0:3d}  {1:8.2f}\".\n",
    "          format(row[0],math.degrees(row[1])))"
   ]
  },
  {
   "cell_type": "markdown",
   "metadata": {},
   "source": [
    "Each row is a tuple:"
   ]
  },
  {
   "cell_type": "code",
   "execution_count": null,
   "metadata": {},
   "outputs": [],
   "source": [
    "for row in zip(N,delta):\n",
    "    print(row)"
   ]
  },
  {
   "cell_type": "markdown",
   "metadata": {},
   "source": [
    "### Diurnal arc"
   ]
  },
  {
   "cell_type": "markdown",
   "metadata": {},
   "source": [
    "Detailed documentation of coordinate systems in Astropy: [docs.astropy.org/en/stable/coordinates/](https://docs.astropy.org/en/stable/coordinates/)"
   ]
  },
  {
   "cell_type": "markdown",
   "metadata": {},
   "source": [
    "#### Betelgeuse"
   ]
  },
  {
   "cell_type": "code",
   "execution_count": null,
   "metadata": {
    "scrolled": true
   },
   "outputs": [],
   "source": [
    "from astropy.coordinates import SkyCoord, EarthLocation\n",
    "\n",
    "betelgeuse = SkyCoord.from_name('Betelgeuse')\n",
    "print(betelgeuse)"
   ]
  },
  {
   "cell_type": "code",
   "execution_count": null,
   "metadata": {},
   "outputs": [],
   "source": [
    "delta = betelgeuse.dec\n",
    "print(delta)"
   ]
  },
  {
   "cell_type": "code",
   "execution_count": null,
   "metadata": {},
   "outputs": [],
   "source": [
    "import astropy.units as u\n",
    "\n",
    "# geographical position of the observer\n",
    "obs = EarthLocation(lat=53*u.deg+28*u.arcmin+49*u.arcsec, \n",
    "                    lon=10*u.deg+14*u.arcmin+23*u.arcsec)\n",
    "             \n",
    "# get latitude    \n",
    "phi = obs.lat"
   ]
  },
  {
   "cell_type": "code",
   "execution_count": null,
   "metadata": {},
   "outputs": [],
   "source": [
    "import math\n",
    "\n",
    "h = math.acos(-math.tan(delta.radian) * \n",
    "              math.tan(phi.radian))"
   ]
  },
  {
   "cell_type": "code",
   "execution_count": null,
   "metadata": {},
   "outputs": [],
   "source": [
    "T = (math.degrees(2*h)/360)*u.sday\n",
    "print(\"T = {:.2f}\".format(T.to(u.h)))"
   ]
  },
  {
   "cell_type": "markdown",
   "metadata": {},
   "source": [
    "#### Annual variation of day length"
   ]
  },
  {
   "cell_type": "code",
   "execution_count": null,
   "metadata": {},
   "outputs": [],
   "source": [
    "import numpy as np\n",
    "\n",
    "N = np.arange(365) # array with elements 0,1,2,...,364\n",
    "omega = 2*math.pi/365.24 # Earth's angular velocity in rad/day\n",
    "ecl = math.radians(23.44) # obliquity of the ecliptic\n",
    "\n",
    "# calculate declination of the Sun for all days of the year\n",
    "delta = -np.arcsin(math.sin(ecl)*np.cos(omega*(N+10)))"
   ]
  },
  {
   "cell_type": "code",
   "execution_count": null,
   "metadata": {},
   "outputs": [],
   "source": [
    "# calculate day length in solar hours\n",
    "h = np.arccos(-np.tan(delta)*math.tan(phi.radian))\n",
    "T = (np.degrees(2*h)/360) * u.sday.to(u.h) "
   ]
  },
  {
   "cell_type": "code",
   "execution_count": null,
   "metadata": {},
   "outputs": [],
   "source": [
    "# inspect single element\n",
    "i = 0\n",
    "print(\"day {0:d}: declination = {1:.2f} deg, T = {2:.2f} h\".\\\n",
    "      format(N[i],math.degrees(delta[i]),T[i]))"
   ]
  },
  {
   "cell_type": "code",
   "execution_count": null,
   "metadata": {
    "scrolled": true
   },
   "outputs": [],
   "source": [
    "import matplotlib.pyplot as plt\n",
    "%matplotlib inline \n",
    "\n",
    "plt.plot(N, T)\n",
    "plt.xlabel(\"Day\")\n",
    "plt.ylabel(\"Day length [hr]\")\n",
    "plt.savefig(\"daylength.pdf\")"
   ]
  },
  {
   "cell_type": "code",
   "execution_count": null,
   "metadata": {},
   "outputs": [],
   "source": [
    "print(\"Minimum day length = {:5.2f} h\".format(T.min()))\n",
    "print(\"Maximum day length = {:5.2f} h\".format(T.max()))"
   ]
  },
  {
   "cell_type": "code",
   "execution_count": null,
   "metadata": {},
   "outputs": [],
   "source": [
    "phi = math.radians(78+13/60) # latitude of Longyearbyen"
   ]
  },
  {
   "cell_type": "code",
   "execution_count": null,
   "metadata": {},
   "outputs": [],
   "source": [
    "# calculate day length in solar hours for all days of the year\n",
    "h = np.arccos(-np.tan(delta)*math.tan(phi))\n",
    "T = (np.degrees(2*h)/360)*u.sday.to(u.h)"
   ]
  },
  {
   "cell_type": "code",
   "execution_count": null,
   "metadata": {},
   "outputs": [],
   "source": [
    "tmp = np.clip(-np.tan(delta)*math.tan(phi), -1.0, 1.0)\n",
    "h = np.arccos(tmp)\n",
    "T = (np.degrees(2*h)/360)*u.sday.to(u.h)"
   ]
  },
  {
   "cell_type": "code",
   "execution_count": null,
   "metadata": {},
   "outputs": [],
   "source": [
    "plt.plot(N, T)\n",
    "plt.xlabel(\"Day\")\n",
    "plt.ylabel(\"Day length [hr]\")"
   ]
  },
  {
   "cell_type": "code",
   "execution_count": null,
   "metadata": {},
   "outputs": [],
   "source": [
    "phi = { 'Hamburg'      : obs.lat.radian,\n",
    "        'Longyearbyen' : math.radians(78 + 13/60) }"
   ]
  },
  {
   "cell_type": "code",
   "execution_count": null,
   "metadata": {},
   "outputs": [],
   "source": [
    "print(phi['Hamburg'])"
   ]
  },
  {
   "cell_type": "code",
   "execution_count": null,
   "metadata": {},
   "outputs": [],
   "source": [
    "phi['New York'] = math.radians(40 + 43/60)\n",
    "phi['Bangkok']  = math.radians(13 + 45/60)"
   ]
  },
  {
   "cell_type": "code",
   "execution_count": null,
   "metadata": {},
   "outputs": [],
   "source": [
    "print(len(phi))"
   ]
  },
  {
   "cell_type": "code",
   "execution_count": null,
   "metadata": {},
   "outputs": [],
   "source": [
    "for key in phi:\n",
    "    print(key + \": {:.2f} deg\".format(math.degrees(phi[key])))\n",
    "    \n",
    "    h = np.arccos(np.clip(-np.tan(delta)*math.tan(phi[key]),\n",
    "                          -1.0, 1.0))\n",
    "    T = (np.degrees(2*h)/360) * u.sday.to(u.h)\n",
    "    \n",
    "    plt.plot(N, T, label=key)\n",
    "   \n",
    "plt.xlabel(\"Day\")\n",
    "plt.xlim(0,364)\n",
    "plt.ylabel(\"Day length [hr]\")\n",
    "plt.ylim(0,24)\n",
    "plt.legend(loc='upper right')\n",
    "plt.savefig(\"daylength.pdf\")"
   ]
  },
  {
   "cell_type": "markdown",
   "metadata": {},
   "source": [
    "### Observing Betelgeuse"
   ]
  },
  {
   "cell_type": "code",
   "execution_count": null,
   "metadata": {},
   "outputs": [],
   "source": [
    "import astropy.units as u\n",
    "from astropy.coordinates import SkyCoord, EarthLocation,\\\n",
    "    AltAz, get_sun\n",
    "\n",
    "# geographical position of the observer\n",
    "obs = EarthLocation(lat=53*u.deg+28*u.arcmin+49*u.arcsec, \n",
    "                    lon=10*u.deg+14*u.arcmin+23*u.arcsec)\n",
    "             \n",
    "# get latitude    \n",
    "phi = obs.lat"
   ]
  },
  {
   "cell_type": "code",
   "execution_count": null,
   "metadata": {},
   "outputs": [],
   "source": [
    "from astropy.time import Time\n",
    "\n",
    "utc_shift = 2*u.hour  # CEST time zone (+2h)\n",
    "\n",
    "noon_cest = Time(\"2020-07-31 12:00:00\") - utc_shift\n",
    "print(noon_cest)"
   ]
  },
  {
   "cell_type": "code",
   "execution_count": null,
   "metadata": {},
   "outputs": [],
   "source": [
    "import numpy as np\n",
    "\n",
    "# time array covering next 24 hours in steps of 5 min\n",
    "elapsed = np.arange(0, 24*60, 5)*u.min\n",
    "time = noon_cest + elapsed\n",
    "\n",
    "# sequence of horizontal frames\n",
    "frame_local_24h = AltAz(obstime=time, location=obs)"
   ]
  },
  {
   "cell_type": "code",
   "execution_count": null,
   "metadata": {},
   "outputs": [],
   "source": [
    "type(np.arange(0, 24*60, 5))"
   ]
  },
  {
   "cell_type": "code",
   "execution_count": null,
   "metadata": {},
   "outputs": [],
   "source": [
    "type(elapsed)"
   ]
  },
  {
   "cell_type": "code",
   "execution_count": null,
   "metadata": {},
   "outputs": [],
   "source": [
    "# is instance of type\n",
    "isinstance(elapsed, u.quantity.Quantity)"
   ]
  },
  {
   "cell_type": "code",
   "execution_count": null,
   "metadata": {},
   "outputs": [],
   "source": [
    "# is instance of base class\n",
    "isinstance(elapsed, np.ndarray)"
   ]
  },
  {
   "cell_type": "code",
   "execution_count": null,
   "metadata": {},
   "outputs": [],
   "source": [
    "type(time)"
   ]
  },
  {
   "cell_type": "code",
   "execution_count": null,
   "metadata": {},
   "outputs": [],
   "source": [
    "isinstance(time, np.ndarray)"
   ]
  },
  {
   "cell_type": "code",
   "execution_count": null,
   "metadata": {},
   "outputs": [],
   "source": [
    "import astropy.utils.misc\n",
    "\n",
    "isinstance(time, astropy.utils.misc.ShapedLikeNDArray)"
   ]
  },
  {
   "cell_type": "code",
   "execution_count": null,
   "metadata": {},
   "outputs": [],
   "source": [
    "# star we want to observe\n",
    "betelgeuse = SkyCoord.from_name('Betelgeuse')\n",
    "\n",
    "betelgeuse_local = betelgeuse.transform_to(frame_local_24h)"
   ]
  },
  {
   "cell_type": "code",
   "execution_count": null,
   "metadata": {},
   "outputs": [],
   "source": [
    "sun = get_sun(time)\n",
    "\n",
    "sun_local = sun.transform_to(frame_local_24h)"
   ]
  },
  {
   "cell_type": "code",
   "execution_count": null,
   "metadata": {},
   "outputs": [],
   "source": [
    "import matplotlib.pyplot as plt\n",
    "%matplotlib inline \n",
    "\n",
    "elapsed_night = elapsed[np.where(sun_local.alt < 0)]\n",
    "betelgeuse_night = betelgeuse_local.alt[np.where(sun_local.alt < 0)]\n",
    "\n",
    "plt.plot(elapsed.to(u.h), sun_local.alt, \n",
    "         color='orange', label='Sun')\n",
    "plt.plot(elapsed_night.to(u.h), betelgeuse_night, \n",
    "         color='red', label='Betelgeuse (night)')\n",
    "plt.plot(elapsed.to(u.h), betelgeuse_local.alt, \n",
    "         color='red', linestyle=':', label='Betelgeuse (daylight)')\n",
    "\n",
    "plt.xlabel('Time from noon [h]')\n",
    "plt.xlim(0, 24)\n",
    "plt.xticks(np.arange(13)*2)\n",
    "plt.ylim(0, 60)\n",
    "plt.ylabel('Altitude [deg]')\n",
    "plt.legend(loc='upper center')\n",
    "plt.savefig(\"Betelgeuse_obs_window.pdf\")"
   ]
  },
  {
   "cell_type": "markdown",
   "metadata": {},
   "source": [
    "See [docs.astropy.org/en/stable/generated/examples/coordinates/plot_obs-planning.html](https://docs.astropy.org/en/stable/generated/examples/coordinates/plot_obs-planning.html#) for a similar example. "
   ]
  },
  {
   "cell_type": "markdown",
   "metadata": {},
   "source": [
    "## Kepler's laws of planetary motion"
   ]
  },
  {
   "cell_type": "code",
   "execution_count": null,
   "metadata": {},
   "outputs": [],
   "source": [
    "import math\n",
    "import numpy as np\n",
    "from scipy.constants import year,hour,au,G\n",
    "from astropy.constants import M_sun\n",
    "\n",
    "M = M_sun.value # mass of the Sun in kg\n",
    "\n",
    "# orbital parameters of planets \n",
    "# see https://nssdc.gsfc.nasa.gov/planetary/factsheet/\n",
    "# mass in kg\n",
    "m = 1e24*np.array([0.33011, 4.8675, 5.9723, 0.64171,\\\n",
    "                   1898.19, 568.34, 86.813, 102.413])\n",
    "# semi-major axis in m\n",
    "a = 1e9*np.array([57.9, 108.21, 149.60, 227.92,\\\n",
    "                  778.57, 1433.53, 2872.46, 4495.06])\n",
    "              \n",
    "# use Kepler's third law to calculate period in s\n",
    "T_test_mass = 2*math.pi * (G*M)**(-1/2) * a**(3/2)\n",
    "T_two_body = 2*math.pi * (G*(M + m))**(-1/2) * a**(3/2)\n",
    "\n",
    "print(\"T [yr]  dev [hr] dev rel.\")\n",
    "for val1,val2 in zip(T_test_mass,T_two_body):\n",
    "    dev = val1 - val2\n",
    "    if dev > hour:\n",
    "        line = \"{0:6.2f}  {1:<7.1f}  {2:.1e}\"\n",
    "    else:\n",
    "        line = \"{0:6.2f}  {1:7.4f}  {2:.1e}\"\n",
    "    print(line.format(val2/year, dev/hour, dev/val1))"
   ]
  },
  {
   "cell_type": "code",
   "execution_count": null,
   "metadata": {},
   "outputs": [],
   "source": [
    "import matplotlib.pyplot as plt\n",
    "%matplotlib inline \n",
    "\n",
    "plt.loglog(a/au, T_test_mass/year, 'blue', linestyle='--',\\\n",
    "           label='test mass')\n",
    "plt.loglog(a/au, T_two_body/year, 'ro', label='planets')\n",
    "plt.legend(loc='lower right')\n",
    "plt.xlabel(\"semi-major axis [AU]\")\n",
    "plt.ylabel(\"orbital period [yr]\")\n",
    "plt.savefig(\"kepler_third_law.pdf\")"
   ]
  },
  {
   "cell_type": "markdown",
   "metadata": {},
   "source": [
    "## Gravitational and tidal forces"
   ]
  },
  {
   "cell_type": "code",
   "execution_count": null,
   "metadata": {},
   "outputs": [],
   "source": [
    "import numpy as np\n",
    "from scipy.constants import g,G\n",
    "from astropy.constants import R_earth,M_earth\n",
    "\n",
    "M = 0.07346e24 # mass of the moon in kg\n",
    "r = 3.844e8 # semi-major axis of moon orbit in m\n",
    "\n",
    "coeff = G*M/r**3\n",
    "accel_scale = 2*coeff*R_earth.value\n",
    "print(\"tidal acceleration = {:.2e} m/s^2 = {:.2e} g\".\\\n",
    "      format(accel_scale,accel_scale/g))\n",
    "\n",
    "h = 15*M*R_earth.value**4/(8*M_earth.value*r**3)\n",
    "print(\"size of tidal bulge = {:.2f} m\".format(h))\n",
    "\n",
    "# array of evenly spaced grid points along x- and y-axis\n",
    "X = np.linspace(-1.1, 1.1, num=23, endpoint=True)\n",
    "Y = np.linspace(-1.1, 1.1, num=23, endpoint=True)\n",
    "print(X)\n",
    "\n",
    "# create two-dimensional mesh grid scaled by Earth radius\n",
    "R_x, R_y = np.meshgrid(R_earth.value*X, R_earth.value*Y)\n",
    "print(R_x.shape)\n",
    "print(R_x[11,21],R_y[11,21])\n",
    "\n",
    "# radial distances of mesh points from (0,0)\n",
    "R = np.sqrt(R_x*R_x + R_y*R_y)\n",
    "\n",
    "# components of tidal acceleration field within Earth radius\n",
    "accel_x = np.ma.masked_where(R > R_earth.value, 2*coeff*R_x)\n",
    "accel_y = np.ma.masked_where(R > R_earth.value, -coeff*R_y)"
   ]
  },
  {
   "cell_type": "code",
   "execution_count": null,
   "metadata": {},
   "outputs": [],
   "source": [
    "accel_x.size"
   ]
  },
  {
   "cell_type": "markdown",
   "metadata": {},
   "source": [
    "```R_x[11,21]``` and ```R_y[11,21]``` are given by the following to elements of ```X``` and ```Y```"
   ]
  },
  {
   "cell_type": "code",
   "execution_count": null,
   "metadata": {},
   "outputs": [],
   "source": [
    "X[21]*R_earth.value"
   ]
  },
  {
   "cell_type": "code",
   "execution_count": null,
   "metadata": {},
   "outputs": [],
   "source": [
    "Y[11]*R_earth.value"
   ]
  },
  {
   "cell_type": "code",
   "execution_count": null,
   "metadata": {},
   "outputs": [],
   "source": [
    "import matplotlib.pyplot as plt\n",
    "from matplotlib.patches import Circle\n",
    "%matplotlib inline \n",
    "\n",
    "fig, ax = plt.subplots(figsize=(6,6),dpi=100)\n",
    "ax.set_aspect('equal')\n",
    "\n",
    "# plot vector field\n",
    "arrows = ax.quiver(X, Y, accel_x, accel_y, color='blue')\n",
    "ax.quiverkey(arrows, X=0.1, Y=0.95, U=accel_scale,\n",
    "             label=r'$1.1\\times 10^{-6}\\;\\mathrm{m/s}^2$', \n",
    "             labelpos='E')\n",
    "\n",
    "# add a circle\n",
    "circle = Circle((0, 0), 1, alpha=0.2, edgecolor=None)\n",
    "ax.add_patch(circle)\n",
    "\n",
    "ax.set_xlabel(r'$x/R_{\\mathrm{E}}$', fontsize=12)\n",
    "ax.set_ylabel(r'$y/R_{\\mathrm{E}}$', fontsize=12)\n",
    "\n",
    "plt.savefig(\"tidal_accel_earth.pdf\")"
   ]
  },
  {
   "cell_type": "code",
   "execution_count": null,
   "metadata": {},
   "outputs": [],
   "source": []
  }
 ],
 "metadata": {
  "kernelspec": {
   "display_name": "Python 3",
   "language": "python",
   "name": "python3"
  },
  "language_info": {
   "codemirror_mode": {
    "name": "ipython",
    "version": 3
   },
   "file_extension": ".py",
   "mimetype": "text/x-python",
   "name": "python",
   "nbconvert_exporter": "python",
   "pygments_lexer": "ipython3",
   "version": "3.7.9"
  }
 },
 "nbformat": 4,
 "nbformat_minor": 2
}
