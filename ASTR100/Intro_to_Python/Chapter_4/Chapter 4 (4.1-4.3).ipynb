{
 "cells": [
  {
   "cell_type": "markdown",
   "metadata": {},
   "source": [
    "# Chapter 4: Solving Differential Equations"
   ]
  },
  {
   "cell_type": "markdown",
   "metadata": {},
   "source": [
    "## Numerical integration of initial value problems"
   ]
  },
  {
   "cell_type": "markdown",
   "metadata": {},
   "source": [
    "### First order differential equations"
   ]
  },
  {
   "cell_type": "markdown",
   "metadata": {},
   "source": [
    "Parameters of a Strömgren sphere"
   ]
  },
  {
   "cell_type": "code",
   "execution_count": null,
   "metadata": {},
   "outputs": [],
   "source": [
    "import numpy as np\n",
    "import astropy.units as unit\n",
    "\n",
    "n0 = 5000 * 1/unit.cm**3 # number density of HI\n",
    "S = 1.6e49 * 1/unit.s # ionizing photons emitted per second\n",
    "alpha = 3.1e-13 * unit.cm**3/unit.s # recombination coefficient\n",
    "\n",
    "rs = (3*S/(4*np.pi * n0**2 * alpha))**(1/3)\n",
    "print(\"Strömgren radius = {:.2f}\".format(rs.to(unit.pc)))"
   ]
  },
  {
   "cell_type": "markdown",
   "metadata": {},
   "source": [
    "Euler method using variables in cgs system"
   ]
  },
  {
   "cell_type": "code",
   "execution_count": null,
   "metadata": {},
   "outputs": [],
   "source": [
    "n0_cgs = n0.value\n",
    "alpha_cgs = alpha.value\n",
    "rs_cgs = rs.value\n",
    "\n",
    "# time step in s\n",
    "dt = 100\n",
    "n_steps = 1000\n",
    "\n",
    "# intialization of arrays for t and r(t)\n",
    "t = np.linspace(0, n_steps*dt, n_steps+1)\n",
    "r = np.zeros(n_steps+1)\n",
    "\n",
    "# start radius in cm\n",
    "r[0] = 1e16\n",
    "\n",
    "# Euler integration\n",
    "for n in range(n_steps):\n",
    "    rdot = n0_cgs * alpha_cgs * (rs_cgs**3 - r[n]**3)/(3*r[n]**2)\n",
    "    r[n+1] = r[n] + rdot * dt"
   ]
  },
  {
   "cell_type": "code",
   "execution_count": null,
   "metadata": {},
   "outputs": [],
   "source": [
    "import matplotlib.pyplot as plt\n",
    "%matplotlib inline\n",
    "\n",
    "fig = plt.figure(figsize=(6, 4), dpi=100)\n",
    "plt.plot(t, rs_cgs*(1 - np.exp(-n0_cgs*alpha_cgs*t))**(1/3), \n",
    "         linestyle='-' , color='red' , label=\"analytic\")\n",
    "plt.plot(t, r, linestyle='--' , color='green' , label=\"Euler\")\n",
    "plt.legend(loc='lower right')\n",
    "plt.xlabel(\"$t$ [s]\")\n",
    "plt.ylabel(\"$r$ [cm]\")\n",
    "plt.savefig(\"stroemgren_cgs.pdf\")"
   ]
  },
  {
   "cell_type": "markdown",
   "metadata": {},
   "source": [
    "Shift of time coordinate $t'=t-t_0$"
   ]
  },
  {
   "cell_type": "code",
   "execution_count": null,
   "metadata": {},
   "outputs": [],
   "source": [
    "t0 = np.log(1 - (r[0]/rs_cgs)**3) / (n0_cgs*alpha_cgs)\n",
    "\n",
    "fig = plt.figure(figsize=(6, 4), dpi=100)\n",
    "plt.plot(t, rs_cgs*(1.0 - np.exp(-n0_cgs*alpha_cgs*(t-t0)))**(1/3), \n",
    "         linestyle='-' , color='red' , label=\"analytic\")\n",
    "plt.plot(t, r, linestyle='--' , color='green' , label=\"Euler\")\n",
    "plt.legend(loc='lower right')\n",
    "plt.xlabel(\"$t$ [s]\")\n",
    "plt.ylabel(\"$r$ [cm]\")\n",
    "plt.show()"
   ]
  },
  {
   "cell_type": "markdown",
   "metadata": {},
   "source": [
    "Formation time scale $t_{\\rm s}$"
   ]
  },
  {
   "cell_type": "code",
   "execution_count": null,
   "metadata": {},
   "outputs": [],
   "source": [
    "ts = 1/(n0*alpha)\n",
    "print(\"Time scale = {:.2f}\".format(ts.to(unit.yr)))"
   ]
  },
  {
   "cell_type": "markdown",
   "metadata": {},
   "source": [
    "Plots above ends at a time $t\\ll t_{\\rm s}$"
   ]
  },
  {
   "cell_type": "code",
   "execution_count": null,
   "metadata": {},
   "outputs": [],
   "source": [
    "t[-1]*unit.s/ts"
   ]
  },
  {
   "cell_type": "markdown",
   "metadata": {},
   "source": [
    "Euler method using dimensionless variables"
   ]
  },
  {
   "cell_type": "code",
   "execution_count": null,
   "metadata": {},
   "outputs": [],
   "source": [
    "# initial radius\n",
    "r0 = 0.01\n",
    "\n",
    "# analytic solution \n",
    "t0 = np.log(1 - r0**3)\n",
    "t = np.arange(0, 2.0, 0.01)\n",
    "\n",
    "fig = plt.figure(figsize=(6, 4), dpi=100)\n",
    "plt.plot(t, (1 - np.exp(-t+t0))**(1/3), color='red' , label=\"analytic\")\n",
    "\n",
    "dt = 1e-3\n",
    "n_steps = 2000\n",
    "\n",
    "while dt >= 1e-5:\n",
    "    t = np.linspace(0, n_steps*dt, n_steps+1)\n",
    "    r = np.zeros(n_steps+1)\n",
    "    r[0] = r0\n",
    "\n",
    "    print(\"Integrating {:d} steps for dt = {:.0e}\".format(n_steps,dt))\n",
    "    for n in range(n_steps):\n",
    "        rdot = (1 - r[n]**3)/(3*r[n]**2)\n",
    "        r[n+1] = r[n] + rdot * dt\n",
    "    \n",
    "    # plot the new data\n",
    "    plt.plot(t, r, linestyle='--' , \n",
    "             label=\"Euler, $\\Delta t$ = {:.1f}\".format(dt*ts.to(unit.hr)))\n",
    "    \n",
    "    # decrease time step by a factor of 10\n",
    "    dt *= 0.1\n",
    "    n_steps *= 10\n",
    "\n",
    "plt.legend(loc='lower right')\n",
    "plt.xlabel(\"$t/t_{\\mathrm{s}}$\")\n",
    "plt.ylabel(\"$r/r_{\\mathrm{s}}$\")\n",
    "plt.ylim(0,1)\n",
    "plt.savefig(\"stroemgren_dimensionless.pdf\")"
   ]
  },
  {
   "cell_type": "markdown",
   "metadata": {},
   "source": [
    "Runge-Kutta (RK4) scheme"
   ]
  },
  {
   "cell_type": "code",
   "execution_count": null,
   "metadata": {},
   "outputs": [],
   "source": [
    "def rk4_step(f, t, x, dt):\n",
    "\n",
    "    k1 = dt * f(t, x)\n",
    "    k2 = dt * f(t + 0.5*dt, x + 0.5*k1)\n",
    "    k3 = dt * f(t + 0.5*dt, x + 0.5*k2)\n",
    "    k4 = dt * f(t + dt, x + k3) \n",
    "\n",
    "    return x + (k1 + 2*(k2 + k3) + k4)/6"
   ]
  },
  {
   "cell_type": "code",
   "execution_count": null,
   "metadata": {},
   "outputs": [],
   "source": [
    "fig = plt.figure(figsize=(6, 4), dpi=100)\n",
    "plt.plot(t, (1 - np.exp(-t+t0))**(1/3), color='red' , label=\"analytic\")\n",
    "\n",
    "dt = 1e-3\n",
    "n_steps = 2000\n",
    "\n",
    "while dt >= 1e-5:\n",
    "    t = np.linspace(0, n_steps*dt, n_steps+1)\n",
    "    r = np.zeros(n_steps+1)\n",
    "    r[0] = r0\n",
    "\n",
    "    print(\"Integrating {:d} steps for dt = {:.0e}\".format(n_steps,dt), end=\",\")\n",
    "    for n in range(n_steps):\n",
    "        r[n+1] = rk4_step(lambda t, r: (1 - r**3)/(3*r**2),\n",
    "                          t[n], r[n], dt)\n",
    "\n",
    "    # plot the new data\n",
    "    plt.plot(t, r, linestyle='--' , \n",
    "             label=\"Runge-Kutta, $\\Delta t$ = {:.1f}\".format(dt*ts.to(unit.hr)))\n",
    "    \n",
    "    print(\" endpoint deviation = {:.2e}\".\n",
    "          format(r[-1] - (1 - np.exp(-t[-1]+t0))**(1/3)))\n",
    "    \n",
    "    # decrease time step by a factor of 10\n",
    "    dt *= 0.1\n",
    "    n_steps *= 10\n",
    "\n",
    "plt.legend(loc='lower right')\n",
    "plt.xlabel(\"$t/t_{\\mathrm{s}}$\")\n",
    "plt.ylabel(\"$r/r_{\\mathrm{s}}$\")\n",
    "plt.ylim(0,1)\n",
    "plt.savefig(\"stroemgren_rk4.pdf\")"
   ]
  },
  {
   "cell_type": "markdown",
   "metadata": {},
   "source": [
    "### Second order differential equations"
   ]
  },
  {
   "cell_type": "markdown",
   "metadata": {},
   "source": [
    "Differential equation for damped harmonic oscillator"
   ]
  },
  {
   "cell_type": "code",
   "execution_count": null,
   "metadata": {},
   "outputs": [],
   "source": [
    "def xddot(t, x, xdot, m, d, k):\n",
    "    \"\"\"\n",
    "    acceleration function of damped harmonic oscillator\n",
    "    \n",
    "    args: t    - time\n",
    "          x    - position\n",
    "          xdot - velocity\n",
    "          m - mass\n",
    "          d - damping constant\n",
    "          k - spring constant\n",
    "\n",
    "    returns: positions (unit amplitude)\n",
    "    \"\"\"\n",
    "    return -(d*xdot + k*x)/m"
   ]
  },
  {
   "cell_type": "code",
   "execution_count": null,
   "metadata": {},
   "outputs": [],
   "source": [
    "def euler_forward(f, t, x, xdot, h, *args):\n",
    "    \"\"\"\n",
    "    Euler forward step for function x(t)\n",
    "    given by second order differential equation\n",
    "\n",
    "    args: f - function determining second derivative\n",
    "          t - value of independent variable t\n",
    "          x - value of x(t)\n",
    "          xdot - value of first derivative dx/dt\n",
    "          h - time step\n",
    "          args - parameters\n",
    "\n",
    "    returns: iterated values for t + h\n",
    "    \"\"\"\n",
    "    return ( x + h*xdot, xdot + h*f(t, x, xdot, *args) )"
   ]
  },
  {
   "cell_type": "markdown",
   "metadata": {},
   "source": [
    "Solution of differential equation with Euler and RKN4 methods"
   ]
  },
  {
   "cell_type": "code",
   "execution_count": null,
   "metadata": {},
   "outputs": [],
   "source": [
    "import numpy as np\n",
    "\n",
    "# parameters\n",
    "m = 1.\n",
    "d = 0.05\n",
    "k = 0.5\n",
    "x0 = 10\n",
    "\n",
    "n = 1000 # number of time steps\n",
    "dt = 0.05 # time step\n",
    "t = np.arange(0, n*dt, dt)\n",
    "\n",
    "# intialization of data arrays for numerical solutions\n",
    "x_fe = np.zeros(n)\n",
    "v_fe = np.zeros(n)\n",
    "\n",
    "# initial data for t = 0 \n",
    "x_fe[0], v_fe[0] = x0, 0\n",
    "\n",
    "# compute numerical solution by applying the forward Euler method\n",
    "for i in range(n-1):\n",
    "    x_fe[i+1], v_fe[i+1] = \\\n",
    "        euler_forward(xddot, t[i], x_fe[i], v_fe[i], dt, m, d, k)"
   ]
  },
  {
   "cell_type": "markdown",
   "metadata": {},
   "source": [
    "Analytic solution"
   ]
  },
  {
   "cell_type": "code",
   "execution_count": null,
   "metadata": {},
   "outputs": [],
   "source": [
    "def osc(t, m, d, k):\n",
    "    \"\"\"\n",
    "    normalized damped harmonic oscillator\n",
    "    with zero velocity at t = 0\n",
    "\n",
    "    args: t - array of time values\n",
    "          m - mass\n",
    "          d - damping constant\n",
    "          k - spring constant\n",
    "\n",
    "    returns: positions (unit amplitude)\n",
    "    \"\"\"\n",
    "    \n",
    "    try:\n",
    "        if m > 0 and d > 0 and k > 0: # positive parameters\n",
    "            gamma = 0.5*d/m\n",
    "            omega0 = np.sqrt(k/m)\n",
    "            if omega0 >= gamma: # underdamped or critical\n",
    "                # frequency of damped oscillation\n",
    "                omega = np.sqrt(omega0**2 - gamma**2)\n",
    "                print(\"Angular frequency = {:.6e}\".format(omega))\n",
    "                return np.exp(-gamma*t) * \\\n",
    "                    (np.cos(omega*t) + gamma*np.sin(omega*t)/omega)\n",
    "            else:\n",
    "                raise ValueError\n",
    "        else:\n",
    "            raise ValueError\n",
    "            \n",
    "    except ValueError:\n",
    "        print(\"Invalid argument: non-positive mass or overdamped\")\n",
    "        return None"
   ]
  },
  {
   "cell_type": "code",
   "execution_count": null,
   "metadata": {},
   "outputs": [],
   "source": [
    "# analytic solution\n",
    "x = x0*osc(t, m, d, k)\n",
    "\n",
    "# relative deviation from analytic solution\n",
    "dev_fe = np.fabs((x - x_fe)/x)"
   ]
  },
  {
   "cell_type": "code",
   "execution_count": null,
   "metadata": {},
   "outputs": [],
   "source": [
    "# apply symplectic Euler and RKN4 schemes \n",
    "from numkit import euler_step, rkn4_step\n",
    "\n",
    "x_rkn4 = np.zeros(n)\n",
    "v_rkn4 = np.zeros(n)\n",
    "\n",
    "x_se = np.zeros(n)\n",
    "v_se = np.zeros(n)\n",
    "\n",
    "x_rkn4[0], v_rkn4[0] = x0, 0\n",
    "x_se[0], v_rkn4[0] = x0, 0\n",
    "\n",
    "for i in range(n-1):\n",
    "    x_rkn4[i+1], v_rkn4[i+1] = \\\n",
    "        rkn4_step(xddot, t[i], x_rkn4[i], v_rkn4[i], dt, m, d, k)\n",
    "    x_se[i+1], v_se[i+1] = \\\n",
    "        euler_step(xddot, t[i], x_se[i], v_se[i], dt, m, d, k)\n",
    "\n",
    "dev_rkn4 = np.fabs((x - x_rkn4)/x)\n",
    "dev_se = np.fabs((x - x_se)/x)"
   ]
  },
  {
   "cell_type": "code",
   "execution_count": null,
   "metadata": {},
   "outputs": [],
   "source": [
    "import matplotlib.pyplot as plt\n",
    "%matplotlib inline\n",
    "\n",
    "T = 2*np.pi/7.066647e-01 # period\n",
    "\n",
    "fig = plt.figure(figsize=(6, 4), dpi=100)\n",
    "plt.plot(t/T, x, linestyle='-' , color='red' , label=\"analytic\")\n",
    "plt.plot(t/T, x_fe, linestyle='--' , color='orange' , label=\"forward Euler\")\n",
    "plt.plot(t/T, x_se, linestyle='--' , color='green' , label=\"symplectic Euler\")\n",
    "plt.plot(t/T, x_rkn4, linestyle='--' , color='navy' , label=\"RKN4\")\n",
    "plt.legend(loc='upper right')\n",
    "plt.xlabel(\"$t$\")\n",
    "plt.ylabel(\"$x$\")\n",
    "plt.savefig(\"oscillator.pdf\")\n",
    "\n",
    "fig = plt.figure(figsize=(6, 4), dpi=100)\n",
    "plt.semilogy(t/T, dev_fe, linestyle='-', color='orange', label='forward Euler')\n",
    "plt.semilogy(t/T, dev_se, linestyle='-', color='green', label='symplectic Euler')\n",
    "plt.semilogy(t/T, dev_rkn4, linestyle='-' , color='navy', label='RKN4')\n",
    "plt.legend(loc='right')\n",
    "plt.xlabel(\"$t$\")\n",
    "plt.ylabel(\"deviation\")\n",
    "plt.savefig(\"oscillator_delta.pdf\")"
   ]
  },
  {
   "cell_type": "markdown",
   "metadata": {},
   "source": [
    "## Radial fall"
   ]
  },
  {
   "cell_type": "code",
   "execution_count": null,
   "metadata": {},
   "outputs": [],
   "source": [
    "import numpy as np\n",
    "import astropy.units as unit\n",
    "from astropy.constants import G,M_earth,R_earth"
   ]
  },
  {
   "cell_type": "markdown",
   "metadata": {},
   "source": [
    "#### Tunguska-like asteroid"
   ]
  },
  {
   "cell_type": "markdown",
   "metadata": {},
   "source": [
    "Estimates of the impact velocity and kinetic energy of a asteroid comparable to Tunguska"
   ]
  },
  {
   "cell_type": "code",
   "execution_count": null,
   "metadata": {},
   "outputs": [],
   "source": [
    "v0 = np.sqrt(2*G*M_earth/R_earth)\n",
    "print(\"Impact velocity = {:.3e}\".format(v0))"
   ]
  },
  {
   "cell_type": "code",
   "execution_count": null,
   "metadata": {},
   "outputs": [],
   "source": [
    "# asteroid parameters\n",
    "R = 34*unit.m                  # radius\n",
    "V = (4*np.pi/3) * R**3         # volume\n",
    "rho = 2.2e3*unit.kg/unit.m**3  # density\n",
    "m = rho*V                      # mass\n",
    "\n",
    "energy_kin = 0.5*m*v0**2\n",
    "print(\"Asteroid mass = {:.1e}, estimated kinetic energy = {:.1e}\".format(m,energy_kin.to(unit.J)))"
   ]
  },
  {
   "cell_type": "markdown",
   "metadata": {},
   "source": [
    "#### Integration of equation of motion with air resistance"
   ]
  },
  {
   "cell_type": "code",
   "execution_count": null,
   "metadata": {},
   "outputs": [],
   "source": [
    "h0 = 300*unit.km\n",
    "v0 = np.sqrt(2*G*M_earth/(R_earth + h0))"
   ]
  },
  {
   "cell_type": "markdown",
   "metadata": {},
   "source": [
    "From now on, we drop units for numerical computations (all variables are in SI units).\n",
    "\n",
    "The module ```numkit``` is provided is part of the zip archive."
   ]
  },
  {
   "cell_type": "code",
   "execution_count": null,
   "metadata": {},
   "outputs": [],
   "source": [
    "from numkit import rkn4_step\n",
    "\n",
    "# drag coefficient\n",
    "c_drag = 0.5\n",
    "\n",
    "# barometric height formula\n",
    "def rho_air(h):\n",
    "    return 1.3*np.exp(-h/8.4e3)\n",
    "\n",
    "# acceleration of the asteroid\n",
    "def hddot(t, h, hdot, m, R):\n",
    "    \n",
    "    # air resistance\n",
    "    F_drag =0.5*rho_air(h)*c_drag * np.pi*R**2 * hdot**2\n",
    "    \n",
    "    # gravity at height h\n",
    "    g_h = G.value * M_earth.value / (R_earth.value + h)**2\n",
    "    \n",
    "    return -g_h + F_drag/m"
   ]
  },
  {
   "cell_type": "code",
   "execution_count": null,
   "metadata": {},
   "outputs": [],
   "source": [
    "# initial data\n",
    "data = [[0, h0.to(unit.m).value, -v0.value]]\n",
    "\n",
    "# initialization of loop variables\n",
    "t, h, hdot = tuple(data[0])\n",
    "print(\"Initial acceleration = {:.2f} m/s^2\".\n",
    "      format(hddot(0, h, hdot, m.value, R.value)))\n",
    "\n",
    "# time step\n",
    "dt = 0.1\n",
    "\n",
    "while h > 0:\n",
    "    h, hdot = rkn4_step(hddot, t, h, hdot, dt, \n",
    "                        m.value, R.value)\n",
    "    t += dt\n",
    "    data = np.append(data, [[t, h, hdot]], axis=0)"
   ]
  },
  {
   "cell_type": "code",
   "execution_count": null,
   "metadata": {},
   "outputs": [],
   "source": [
    "import matplotlib.pyplot as plt\n",
    "\n",
    "plt.figure(figsize=(12,4), dpi=100)\n",
    "\n",
    "plt.subplot(121)\n",
    "plt.plot(data[:,0], 1e-3*data[:,1])\n",
    "plt.xlabel(\"$t$ [s]\")\n",
    "plt.ylabel(\"$h$ [km]\" )\n",
    "\n",
    "plt.subplot(122)\n",
    "plt.plot(1e-3*data[:,1], -1e-3*data[:,2])\n",
    "plt.xlim(h0.value+10,-10)\n",
    "plt.xlabel(\"$h$ [km]\")\n",
    "plt.ylabel(\"-$\\dot{h}$ [km/s]\" )\n",
    "plt.savefig(\"asteroid.pdf\")"
   ]
  },
  {
   "cell_type": "markdown",
   "metadata": {},
   "source": [
    "#### Energy dissipation"
   ]
  },
  {
   "cell_type": "code",
   "execution_count": null,
   "metadata": {},
   "outputs": [],
   "source": [
    "def dissipation(h, hdot, m, R):\n",
    "    return -0.5*rho_air(h)*c_drag * np.pi*R**2 * hdot**3"
   ]
  },
  {
   "cell_type": "code",
   "execution_count": null,
   "metadata": {
    "scrolled": true
   },
   "outputs": [],
   "source": [
    "plt.figure(figsize=(6,4), dpi=100)\n",
    "\n",
    "plt.plot(1e-3*data[:,1], dissipation(data[:,1], data[:,2], m.value, R.value))\n",
    "plt.xlim(h0.value+10,-10)\n",
    "plt.xlabel(\"$h$ [km]\")\n",
    "plt.ylabel(\"$\\dot{E}$ [J/s]\" )\n",
    "plt.savefig(\"asteroid_diss.pdf\")"
   ]
  },
  {
   "cell_type": "code",
   "execution_count": null,
   "metadata": {},
   "outputs": [],
   "source": [
    "def integr_trapez(y, h):\n",
    "    \"\"\"\n",
    "    numerical integration of a function\n",
    "    given by discrete data\n",
    "\n",
    "    args: y - array of function values\n",
    "          h - spacing between x values       \n",
    "\n",
    "    returns: approximate integral\n",
    "    \"\"\"\n",
    "    return 0.5*h*(y[0] + 2*np.sum(y[1:-1]) + y[-1])"
   ]
  },
  {
   "cell_type": "code",
   "execution_count": null,
   "metadata": {},
   "outputs": [],
   "source": [
    "a, b = 0, np.pi/2\n",
    "n = 10\n",
    "x = np.linspace(a, b, n+1)\n",
    "y = np.sin(x)"
   ]
  },
  {
   "cell_type": "code",
   "execution_count": null,
   "metadata": {},
   "outputs": [],
   "source": [
    "integr_trapez(y, (b-a)/n)"
   ]
  },
  {
   "cell_type": "code",
   "execution_count": null,
   "metadata": {},
   "outputs": [],
   "source": [
    "np.trapz(y, dx=(b-a)/n)"
   ]
  },
  {
   "cell_type": "code",
   "execution_count": null,
   "metadata": {},
   "outputs": [],
   "source": [
    "energy_diss = integr_trapez(dissipation(data[:,1], data[:,2], m.value, R.value), dt)*unit.J\n",
    "print(\"Fraction of dissipated energy = {:.2f} %\".format(100*energy_diss/energy_kin.to(unit.J)))"
   ]
  },
  {
   "cell_type": "markdown",
   "metadata": {},
   "source": [
    "## Orbital mechanics"
   ]
  },
  {
   "cell_type": "markdown",
   "metadata": {},
   "source": [
    "### Two-body problem"
   ]
  },
  {
   "cell_type": "code",
   "execution_count": null,
   "metadata": {},
   "outputs": [],
   "source": [
    "import numpy as np\n",
    "from astropy.constants import M_sun\n",
    "from scipy.constants import G,year,au\n",
    "\n",
    "M1 = 2.06*M_sun.value # mass of Sirius A\n",
    "M2 = 1.02*M_sun.value # mass of Sirius B\n",
    "\n",
    "a = 2.64*7.4957*au # semi-major axis\n",
    "e = 0.5914"
   ]
  },
  {
   "cell_type": "markdown",
   "metadata": {},
   "source": [
    "Orbital period computed from Kepler's third law"
   ]
  },
  {
   "cell_type": "code",
   "execution_count": null,
   "metadata": {},
   "outputs": [],
   "source": [
    "T = 2*np.pi * (G*(M1 + M2))**(-1/2) * a**(3/2)\n",
    "\n",
    "print(\"Orbital period = {:.1f} yr\".format(T/year))"
   ]
  },
  {
   "cell_type": "code",
   "execution_count": null,
   "metadata": {},
   "outputs": [],
   "source": [
    "n_rev = 3      # number of revolutions\n",
    "n = n_rev*500  # number of time steps\n",
    "dt = n_rev*T/n # time step\n",
    "t = np.arange(0, (n+1)*dt, dt)\n",
    "\n",
    "# data arrays for coordinates\n",
    "x1 = np.zeros(n+1)\n",
    "y1 = np.zeros(n+1)\n",
    "x2 = np.zeros(n+1)\n",
    "y2 = np.zeros(n+1)\n",
    "\n",
    "# data arrays for velocity components\n",
    "vx1 = np.zeros(n+1)\n",
    "vy1 = np.zeros(n+1)\n",
    "vx2 = np.zeros(n+1)\n",
    "vy2 = np.zeros(n+1)"
   ]
  },
  {
   "cell_type": "markdown",
   "metadata": {},
   "source": [
    "Initial data: start at periastron"
   ]
  },
  {
   "cell_type": "code",
   "execution_count": null,
   "metadata": {},
   "outputs": [],
   "source": [
    "# periastron distance and relative velocity\n",
    "d = a*(1 - e)\n",
    "v = np.sqrt(G*(M1 + M2)*(2/d - 1/a)) # vis-viva eq.\n",
    "\n",
    "x1[0], y1[0] =  d*M2/(M1 + M2), 0\n",
    "x2[0], y2[0] = -d*M1/(M1 + M2), 0\n",
    "\n",
    "vx1[0], vy1[0] = 0, -v*M2/(M1 + M2)\n",
    "vx2[0], vy2[0] = 0,  v*M1/(M1 + M2)"
   ]
  },
  {
   "cell_type": "code",
   "execution_count": null,
   "metadata": {},
   "outputs": [],
   "source": [
    "alpha = G*M1*M2"
   ]
  },
  {
   "cell_type": "markdown",
   "metadata": {},
   "source": [
    "#### Forward Euler method"
   ]
  },
  {
   "cell_type": "code",
   "execution_count": null,
   "metadata": {},
   "outputs": [],
   "source": [
    "for i in range(n):\n",
    "    \n",
    "    delta_x = x2[i] - x1[i]\n",
    "    delta_y = y2[i] - y1[i]\n",
    "    \n",
    "    # third power of distance \n",
    "    d3 = (delta_x**2 + delta_y**2)**(3/2)\n",
    "    \n",
    "    # force components\n",
    "    Fx = alpha*delta_x/d3\n",
    "    Fy = alpha*delta_y/d3\n",
    "    \n",
    "    # forward Euler velocity updates\n",
    "    vx1[i+1] = vx1[i] + Fx*dt/M1\n",
    "    vy1[i+1] = vy1[i] + Fy*dt/M1\n",
    "    vx2[i+1] = vx2[i] - Fx*dt/M2\n",
    "    vy2[i+1] = vy2[i] - Fy*dt/M2\n",
    "    \n",
    "    # forward Euler position updates\n",
    "    x1[i+1] = x1[i] + vx1[i]*dt\n",
    "    y1[i+1] = y1[i] + vy1[i]*dt\n",
    "    x2[i+1] = x2[i] + vx2[i]*dt\n",
    "    y2[i+1] = y2[i] + vy2[i]*dt"
   ]
  },
  {
   "cell_type": "code",
   "execution_count": null,
   "metadata": {},
   "outputs": [],
   "source": [
    "import matplotlib.pyplot as plt\n",
    "%matplotlib inline\n",
    "\n",
    "fig = plt.figure(figsize=(6, 6*35/55), dpi=100)\n",
    "\n",
    "plt.plot([0], [0], '+k')  # center of mass\n",
    "plt.plot(x1/au, y1/au, color='red', label='Sirius A')\n",
    "plt.plot(x2/au, y2/au, color='blue', label='Sirius B')\n",
    "\n",
    "plt.xlabel(\"$x$ [AU]\")\n",
    "plt.xlim(-20,35)\n",
    "plt.ylabel(\"$y$ [AU]\")\n",
    "plt.ylim(-17.5,17.5)\n",
    "plt.legend(loc='upper left')\n",
    "plt.savefig(\"sirius_forward.pdf\")"
   ]
  },
  {
   "cell_type": "markdown",
   "metadata": {},
   "source": [
    "#### Symplectic Euler method"
   ]
  },
  {
   "cell_type": "code",
   "execution_count": null,
   "metadata": {},
   "outputs": [],
   "source": [
    "for i in range(n):\n",
    "    \n",
    "    delta_x = x2[i] - x1[i]\n",
    "    delta_y = y2[i] - y1[i]\n",
    "    \n",
    "    # third power of distance \n",
    "    d3 = (delta_x**2 + delta_y**2)**(3/2)\n",
    "    \n",
    "    # force components\n",
    "    Fx = alpha*delta_x/d3\n",
    "    Fy = alpha*delta_y/d3\n",
    "    \n",
    "    # forward Euler velocity updates\n",
    "    vx1[i+1] = vx1[i] + Fx*dt/M1\n",
    "    vy1[i+1] = vy1[i] + Fy*dt/M1\n",
    "    vx2[i+1] = vx2[i] - Fx*dt/M2\n",
    "    vy2[i+1] = vy2[i] - Fy*dt/M2\n",
    "    \n",
    "    # forward Euler position updates\n",
    "    x1[i+1] = x1[i] + vx1[i+1]*dt\n",
    "    y1[i+1] = y1[i] + vy1[i+1]*dt\n",
    "    x2[i+1] = x2[i] + vx2[i+1]*dt\n",
    "    y2[i+1] = y2[i] + vy2[i+1]*dt"
   ]
  },
  {
   "cell_type": "code",
   "execution_count": null,
   "metadata": {},
   "outputs": [],
   "source": [
    "fig = plt.figure(figsize=(6, 6*25/35), dpi=100)\n",
    "\n",
    "plt.plot([0], [0], '+k')  # center of mass\n",
    "plt.plot(x1/au, y1/au, color='red', label='Sirius A')\n",
    "plt.plot(x2/au, y2/au, color='blue', label='Sirius B')\n",
    "\n",
    "plt.xlabel(\"$x$ [AU]\")\n",
    "plt.xlim(-12.5,22.5)\n",
    "plt.ylabel(\"$y$ [AU]\")\n",
    "plt.ylim(-12.5,12.5)\n",
    "plt.legend(loc='upper left')\n",
    "plt.savefig(\"sirius_symplectic.pdf\")"
   ]
  },
  {
   "cell_type": "markdown",
   "metadata": {},
   "source": [
    "#### SciPy integrator\n",
    "\n",
    "See [docs.scipy.org/doc/scipy/reference/integrate.html](https://docs.scipy.org/doc/scipy/reference/integrate.html) for an overview."
   ]
  },
  {
   "cell_type": "code",
   "execution_count": null,
   "metadata": {},
   "outputs": [],
   "source": [
    "from scipy.integrate import solve_ivp\n",
    "\n",
    "init_state = np.array([ x1[0],  y1[0],  x2[0],  y2[0], \n",
    "                       vx1[0], vy1[0], vx2[0], vy2[0]])"
   ]
  },
  {
   "cell_type": "code",
   "execution_count": null,
   "metadata": {},
   "outputs": [],
   "source": [
    "def state_derv(t, state):\n",
    "    alpha = G*M1*M2\n",
    "\n",
    "    delta_x = state[2] - state[0] # x2 - x1\n",
    "    delta_y = state[3] - state[1] # y2 - y1\n",
    "    \n",
    "    # third power of distance \n",
    "    d3 = (delta_x**2 + delta_y**2)**(3/2)\n",
    "    \n",
    "    # force components\n",
    "    Fx = alpha*delta_x/d3\n",
    "    Fy = alpha*delta_y/d3\n",
    "\n",
    "    return np.array([state[4], state[5], state[6], state[7], \n",
    "                     Fx/M1, Fy/M1, -Fx/M2, -Fy/M2])"
   ]
  },
  {
   "cell_type": "markdown",
   "metadata": {},
   "source": [
    "Default tolerance"
   ]
  },
  {
   "cell_type": "code",
   "execution_count": null,
   "metadata": {},
   "outputs": [],
   "source": [
    "tmp = solve_ivp(state_derv, (0,3*T), init_state, dense_output=True)\n",
    "data = tmp.sol(t)"
   ]
  },
  {
   "cell_type": "code",
   "execution_count": null,
   "metadata": {},
   "outputs": [],
   "source": [
    "fig = plt.figure(figsize=(6, 6*25/35), dpi=100)\n",
    "\n",
    "plt.plot([0], [0], '+k')  # center of mass\n",
    "plt.plot(data[0,:]/au, data[1,:]/au, color='red', label='Sirius A')\n",
    "plt.plot(data[2,:]/au, data[3,:]/au, color='blue', label='Sirius B')\n",
    "\n",
    "plt.xlabel(\"$x$ [AU]\")\n",
    "plt.xlim(-12.5,22.5)\n",
    "plt.ylabel(\"$y$ [AU]\")\n",
    "plt.ylim(-12.5,12.5)\n",
    "plt.legend(loc='upper left')\n",
    "plt.savefig(\"sirius_scipy.pdf\")"
   ]
  },
  {
   "cell_type": "markdown",
   "metadata": {},
   "source": [
    "### Algol star system"
   ]
  },
  {
   "cell_type": "code",
   "execution_count": null,
   "metadata": {},
   "outputs": [],
   "source": [
    "from scipy.constants import day\n",
    "\n",
    "M1 = 3.17*M_sun.value # mass of Algol Aa1\n",
    "M2 = 0.70*M_sun.value # mass of Algol Aa2\n",
    "M3 = 1.76*M_sun.value # mass of Algol Ab\n",
    "\n",
    "# inner orbit (Aa1 and Aa2)\n",
    "T12 = 2.867*day\n",
    "e12 = 0\n",
    "\n",
    "# outer orbit (Aa and Ab)\n",
    "T = 680.2*day\n",
    "e = 0.227"
   ]
  },
  {
   "cell_type": "markdown",
   "metadata": {},
   "source": [
    "Initial positions and velocities following from two-body approximations for Aa1/2 andAa/b"
   ]
  },
  {
   "cell_type": "code",
   "execution_count": null,
   "metadata": {},
   "outputs": [],
   "source": [
    "from scipy.constants import day\n",
    "\n",
    "a12 = (T12/(2*np.pi))**(2/3) * (G*(M1 + M2))**(1/3)\n",
    "a = (T/(2*np.pi))**(2/3) * (G*(M1 + M2 + M3))**(1/3)\n",
    "\n",
    "print(\"Inner semi-major axis = {:.2e} AU\".format(a12/au))\n",
    "print(\"Outer semi-major axis = {:.2f} AU\".format(a/au))"
   ]
  },
  {
   "cell_type": "code",
   "execution_count": null,
   "metadata": {},
   "outputs": [],
   "source": [
    "M12 = M1 + M2\n",
    "d12 = a12*(1 - e12)\n",
    "v12 = np.sqrt(G*M12*(2/d12 - 1/a12))\n",
    "\n",
    "x1, y1 =  d12*M2/M12, 0\n",
    "x2, y2 = -d12*M1/M12, 0\n",
    "\n",
    "vx1, vy1 = 0, -v12*M2/M12\n",
    "vx2, vy2 = 0,  v12*M1/M12"
   ]
  },
  {
   "cell_type": "code",
   "execution_count": null,
   "metadata": {},
   "outputs": [],
   "source": [
    "d = a*(1 - e)\n",
    "v = np.sqrt(G*(M12 + M3)*(2/d - 1/a))\n",
    "\n",
    "x1 += d*M3/(M12 + M3) \n",
    "x2 += d*M3/(M12 + M3)\n",
    "\n",
    "x3, y3 = -d*M12/(M12 + M3), 0\n",
    "\n",
    "vy1 -= v*M3/(M12 + M3)\n",
    "vy2 -= v*M3/(M12 + M3)\n",
    "\n",
    "vx3, vy3 = 0, v*M12/(M12 + M3)"
   ]
  },
  {
   "cell_type": "markdown",
   "metadata": {},
   "source": [
    "Initial state ${\\bf s}_0$"
   ]
  },
  {
   "cell_type": "code",
   "execution_count": null,
   "metadata": {},
   "outputs": [],
   "source": [
    "init_state = np.array([ x1,  y1,  x2,  y2,  x3,  y3, \n",
    "                       vx1, vy1, vx2, vy2, vx3, vy3])"
   ]
  },
  {
   "cell_type": "markdown",
   "metadata": {},
   "source": [
    "Derviative function ${\\bf f}(t,{\\bf s})$"
   ]
  },
  {
   "cell_type": "code",
   "execution_count": null,
   "metadata": {},
   "outputs": [],
   "source": [
    "def state_derv(t, state):\n",
    "    alpha = G*M1*M2\n",
    "    beta = G*M1*M3\n",
    "    gamma = G*M2*M3\n",
    "\n",
    "    delta12_x = state[2] - state[0] # x2 - x1\n",
    "    delta12_y = state[3] - state[1] # y2 - y1\n",
    "    \n",
    "    delta13_x = state[4] - state[0] # x3 - x1\n",
    "    delta13_y = state[5] - state[1] # y3 - y1\n",
    "    \n",
    "    delta23_x = state[4] - state[2] # x3 - x2\n",
    "    delta23_y = state[5] - state[3] # y3 - y2\n",
    "        \n",
    "    # force components\n",
    "    F12x = alpha*delta12_x/(delta12_x**2 + delta12_y**2)**(3/2)\n",
    "    F12y = alpha*delta12_y/(delta12_x**2 + delta12_y**2)**(3/2)\n",
    "    \n",
    "    F13x =  beta*delta13_x/(delta13_x**2 + delta13_y**2)**(3/2)\n",
    "    F13y =  beta*delta13_y/(delta13_x**2 + delta13_y**2)**(3/2)\n",
    "\n",
    "    F23x = gamma*delta23_x/(delta23_x**2 + delta23_y**2)**(3/2)\n",
    "    F23y = gamma*delta23_y/(delta23_x**2 + delta23_y**2)**(3/2)\n",
    "\n",
    "    return np.array([state[6], state[7], \n",
    "                     state[8], state[9], \n",
    "                     state[10], state[11],  \n",
    "                     ( F12x + F13x)/M1, ( F12y + F13y)/M1, \n",
    "                     (-F12x + F23x)/M2, (-F12y + F23y)/M2,\n",
    "                     (-F13x - F23x)/M3, (-F13y - F23y)/M3])"
   ]
  },
  {
   "cell_type": "markdown",
   "metadata": {},
   "source": [
    "Apply numerical solver"
   ]
  },
  {
   "cell_type": "code",
   "execution_count": null,
   "metadata": {},
   "outputs": [],
   "source": [
    "tmp = solve_ivp(state_derv, (0,0.5*T), init_state, dense_output=True, rtol=1e-6)\n",
    "data = tmp.y"
   ]
  },
  {
   "cell_type": "code",
   "execution_count": null,
   "metadata": {},
   "outputs": [],
   "source": [
    "print(tmp.nfev)"
   ]
  },
  {
   "cell_type": "code",
   "execution_count": null,
   "metadata": {},
   "outputs": [],
   "source": [
    "fig = plt.figure(figsize=(6,6*3/4), dpi=100)\n",
    "\n",
    "plt.plot([0], [0], '+k')  # center of mass\n",
    "plt.plot(data[0,:]/au, data[1,:]/au, color='red', lw=1, label='Algol Aa1')\n",
    "plt.plot(data[2,:]/au, data[3,:]/au, color='blue', lw=1, label='Algol Aa2')\n",
    "plt.plot(data[4,:]/au, data[5,:]/au, color='green', label='Algol Ab')\n",
    "\n",
    "plt.xlabel(\"$x$ [AU]\")\n",
    "plt.xlim(-1.5,2.5)\n",
    "plt.ylabel(\"$y$ [AU]\")\n",
    "plt.ylim(-1,2)\n",
    "plt.legend(loc='lower right')\n",
    "plt.savefig(\"algol.pdf\")"
   ]
  },
  {
   "cell_type": "code",
   "execution_count": null,
   "metadata": {},
   "outputs": [],
   "source": [
    "fig = plt.figure(figsize=(6,6*1/0.75), dpi=100)\n",
    "\n",
    "plt.plot(data[0,:]/au, data[1,:]/au, color='red', lw=1, label='Algol Aa1')\n",
    "plt.plot(data[2,:]/au, data[3,:]/au, color='blue', lw=1, label='Algol Aa2')\n",
    "\n",
    "plt.xlabel(\"$x$ [AU]\")\n",
    "plt.xlim(0,0.75)\n",
    "plt.ylabel(\"$y$ [AU]\")\n",
    "plt.ylim(-0.9,0.1)\n",
    "plt.legend(loc='upper left')\n",
    "plt.savefig(\"algol_inner.pdf\")"
   ]
  },
  {
   "cell_type": "code",
   "execution_count": null,
   "metadata": {},
   "outputs": [],
   "source": []
  }
 ],
 "metadata": {
  "kernelspec": {
   "display_name": "Python 3",
   "language": "python",
   "name": "python3"
  },
  "language_info": {
   "codemirror_mode": {
    "name": "ipython",
    "version": 3
   },
   "file_extension": ".py",
   "mimetype": "text/x-python",
   "name": "python",
   "nbconvert_exporter": "python",
   "pygments_lexer": "ipython3",
   "version": "3.7.9"
  }
 },
 "nbformat": 4,
 "nbformat_minor": 2
}
