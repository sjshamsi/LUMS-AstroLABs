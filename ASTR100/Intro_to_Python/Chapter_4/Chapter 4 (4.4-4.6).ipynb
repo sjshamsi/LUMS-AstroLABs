{
 "cells": [
  {
   "cell_type": "markdown",
   "metadata": {},
   "source": [
    "# Chapter 4: Solving Differential Equations"
   ]
  },
  {
   "cell_type": "markdown",
   "metadata": {},
   "source": [
    "## Galactic collisions"
   ]
  },
  {
   "cell_type": "markdown",
   "metadata": {},
   "source": [
    "Module ```galcol``` contains functions for setup, numerical integration, and visualization"
   ]
  },
  {
   "cell_type": "code",
   "execution_count": null,
   "metadata": {},
   "outputs": [],
   "source": [
    "import galcol"
   ]
  },
  {
   "cell_type": "code",
   "execution_count": null,
   "metadata": {},
   "outputs": [],
   "source": [
    "dir(galcol)"
   ]
  },
  {
   "cell_type": "markdown",
   "metadata": {},
   "source": [
    "#### Example: Whirlpool-like galaxy"
   ]
  },
  {
   "cell_type": "markdown",
   "metadata": {},
   "source": [
    "This is an example for a nearly edge-on collision. A smaller intruder galaxy moves under an angle of 45° in the $xy$-plane with an impact velocity of about 130 km/s toward a larger, more massive target galaxy. The impact parameter is 6 kpc in $z$-direction."
   ]
  },
  {
   "cell_type": "markdown",
   "metadata": {},
   "source": [
    "First we define the parameters of the intruder and target galaxies."
   ]
  },
  {
   "cell_type": "code",
   "execution_count": null,
   "metadata": {},
   "outputs": [],
   "source": [
    "import galcol\n",
    "import astropy.units as unit"
   ]
  },
  {
   "cell_type": "code",
   "execution_count": null,
   "metadata": {},
   "outputs": [],
   "source": [
    "galaxies = {\n",
    "    'intruder' : galcol.parameters(\n",
    "        # mass in solar masses\n",
    "        1e10, \n",
    "        # disk radius in kpc\n",
    "        5, \n",
    "        # Cartesian coordinates (x,y,z) of initial position in kpc \n",
    "        (25,-25,-5), \n",
    "        # x-, y-, z-components of initial velocity in km/s\n",
    "        (-75,75,0),\n",
    "        # normal to galactic plane (disk is in xy-plane)\n",
    "        (0,0,1), \n",
    "        # number of rings (each ring will be randomly populated with 1000/5 = 200 stars)\n",
    "        5, \n",
    "        # total number of stars\n",
    "        1000, \n",
    "        # softening factor defines inner edge of disk (in units of disk radius)\n",
    "        0.025),\n",
    "    'target' : galcol.parameters(5e10, 10, (-5,5,1), (15,-15,0), (1,-1,2**0.5), 10, 4000, 0.025),\n",
    "}"
   ]
  },
  {
   "cell_type": "code",
   "execution_count": null,
   "metadata": {},
   "outputs": [],
   "source": [
    "galaxies['intruder']"
   ]
  },
  {
   "cell_type": "code",
   "execution_count": null,
   "metadata": {},
   "outputs": [],
   "source": [
    "galcol.init_disk(galaxies['intruder'])\n",
    "galcol.init_disk(galaxies['target'])"
   ]
  },
  {
   "cell_type": "markdown",
   "metadata": {},
   "source": [
    "The dictionaries of the two galaxies now contain additional items, particularly the inititial data of the stars."
   ]
  },
  {
   "cell_type": "code",
   "execution_count": null,
   "metadata": {},
   "outputs": [],
   "source": [
    "galaxies['intruder']"
   ]
  },
  {
   "cell_type": "markdown",
   "metadata": {},
   "source": [
    "Solve equations of motion and visualize data."
   ]
  },
  {
   "cell_type": "code",
   "execution_count": null,
   "metadata": {},
   "outputs": [],
   "source": [
    "t, data = galcol.evolve_two_disks(galaxies['target'], galaxies['intruder'], \n",
    "                                  N_steps=10000, N_snapshots=500, time_step=0.05*unit.Myr)"
   ]
  },
  {
   "cell_type": "code",
   "execution_count": null,
   "metadata": {},
   "outputs": [],
   "source": [
    "i = 100\n",
    "galcol.show_two_disks_3d(data[i,:,:], galaxies['target']['N_stars'], \n",
    "                         [-15,15], [-15,15], [-15,15], t[i], name='two_disks')"
   ]
  },
  {
   "cell_type": "code",
   "execution_count": null,
   "metadata": {},
   "outputs": [],
   "source": [
    "galcol.anim_two_disks_3d(data, galaxies['target']['N_stars'], \n",
    "                         [-15,15], [-15,15], [-15,15], t, name='two_disks')"
   ]
  },
  {
   "cell_type": "markdown",
   "metadata": {},
   "source": [
    "## Stellar Clusters"
   ]
  },
  {
   "cell_type": "code",
   "execution_count": null,
   "metadata": {},
   "outputs": [],
   "source": [
    "import numpy as np\n",
    "\n",
    "n_files = 501\n",
    "\n",
    "for n in range(n_files):\n",
    "    # load n-th snapshot from file\n",
    "    snapshot = np.loadtxt(\n",
    "        \"data_files/nbody/output_{:d}.dat\".format(n), dtype='float64')\n",
    "    \n",
    "    if n == 0:  # create data array with first snapshot as element\n",
    "        data = np.array([snapshot])\n",
    "    else:  # append further snapshots to data array\n",
    "        data = np.append(data, [snapshot], axis=0)"
   ]
  },
  {
   "cell_type": "code",
   "execution_count": null,
   "metadata": {},
   "outputs": [],
   "source": [
    "data.shape"
   ]
  },
  {
   "cell_type": "code",
   "execution_count": null,
   "metadata": {},
   "outputs": [],
   "source": [
    "import matplotlib.pyplot as plt\n",
    "%matplotlib inline\n",
    "\n",
    "plt.figure(figsize=(6,4), dpi=100)\n",
    "plt.hist(data[0,:,1], 20, histtype='step', lw=2)\n",
    "plt.xlabel('$M/M_\\odot$')\n",
    "plt.ylabel('$N$')\n",
    "plt.savefig('cluster_hist_mass.pdf')"
   ]
  },
  {
   "cell_type": "code",
   "execution_count": null,
   "metadata": {},
   "outputs": [],
   "source": [
    "print(\"Average mass: {:.3f} solar masses\".format(np.mean(data[0,:,1])))"
   ]
  },
  {
   "cell_type": "code",
   "execution_count": null,
   "metadata": {},
   "outputs": [],
   "source": [
    "from astropy.constants import au,pc\n",
    "\n",
    "r = np.sqrt(data[:,:,2]**2 + \n",
    "            data[:,:,3]**2 + \n",
    "            data[:,:,4]**2) * au/pc\n",
    "\n",
    "v = np.sqrt(data[:,:,5]**2 + data[:,:,6]**2 + data[:,:,7]**2)"
   ]
  },
  {
   "cell_type": "code",
   "execution_count": null,
   "metadata": {},
   "outputs": [],
   "source": [
    "plt.figure(figsize=(12,8), dpi=200)\n",
    "\n",
    "n_bins = 25\n",
    "\n",
    "plt.subplot(231)\n",
    "plt.hist(r[0,:], n_bins, range=[0,50], \n",
    "         histtype='step', lw=2, color='mediumblue')\n",
    "plt.xlabel(\"$r$ [pc]\")\n",
    "plt.ylabel(\"$N$\")\n",
    "plt.ylim(0,250)\n",
    "plt.title(\"$t=0$\")\n",
    "\n",
    "plt.subplot(232)\n",
    "plt.hist(r[100,:], n_bins, range=[0,50], \n",
    "         histtype='step', lw=2, color='mediumblue')\n",
    "plt.xlabel(\"$r$ [pc]\")\n",
    "plt.ylim(0,250)\n",
    "plt.title(\"$t={:.0f}\\,$Myr\".format(100*0.2))\n",
    "\n",
    "plt.subplot(233)\n",
    "plt.hist(r[500,:], n_bins, range=[0,50], \n",
    "         histtype='step', lw=2, color='mediumblue')\n",
    "plt.xlabel(\"$r$ [pc]\")\n",
    "plt.ylim(0,250)\n",
    "plt.title(\"$t={:.0f}\\,$Myr\".format(500*0.2))\n",
    "\n",
    "plt.subplot(234)\n",
    "plt.hist(v[0,:], n_bins, range=[0,3.5], \n",
    "         histtype='step', lw=2, color='red')\n",
    "plt.xlabel(\"$v$ [km/s]\")\n",
    "plt.ylabel(\"$N$\")\n",
    "plt.ylim(0,120)\n",
    "\n",
    "plt.subplot(235)\n",
    "plt.hist(v[100,:], n_bins, range=[0,3.5], \n",
    "         histtype='step', lw=2, color='red')\n",
    "plt.xlabel(\"$v$ [km/s]\")\n",
    "plt.ylim(0,120)\n",
    "\n",
    "plt.subplot(236)\n",
    "plt.hist(v[500,:], n_bins, range=[0,3.5], \n",
    "         histtype='step', lw=2, color='red')\n",
    "plt.xlabel(\"$v$ [km/s]\")\n",
    "plt.ylim(0,120)\n",
    "\n",
    "plt.savefig(\"cluster_hist_evol.pdf\")"
   ]
  },
  {
   "cell_type": "code",
   "execution_count": null,
   "metadata": {},
   "outputs": [],
   "source": [
    "t = np.linspace(0,100,n_files)\n",
    "\n",
    "r_rms = np.sqrt(np.mean(r**2, axis=1))\n",
    "v_rms = np.sqrt(np.mean(v**2, axis=1))\n",
    "\n",
    "r_median = np.median(r, axis=1)"
   ]
  },
  {
   "cell_type": "code",
   "execution_count": null,
   "metadata": {},
   "outputs": [],
   "source": [
    "plt.figure(figsize=(10.5,3.5), dpi=200)\n",
    "\n",
    "plt.subplot(121)\n",
    "plt.plot(t, r_rms, color='mediumblue')\n",
    "plt.plot(t, r_median, ls='dashed', color='mediumblue')\n",
    "plt.xlabel(\"$t$ [Myr]\")\n",
    "plt.ylabel(\"$r_\\mathrm{RMS}$ [pc]\")\n",
    "plt.ylim(0,30)\n",
    "\n",
    "plt.subplot(122)\n",
    "plt.plot(t, v_rms, color=\"red\")\n",
    "plt.xlabel(\"$t$ [Myr]\")\n",
    "plt.ylabel(\"$v_\\mathrm{RMS}$ [km/s]\")\n",
    "plt.ylim(0,1.8)\n",
    "\n",
    "plt.savefig(\"cluster_evol_rms.pdf\")"
   ]
  },
  {
   "cell_type": "markdown",
   "metadata": {},
   "source": [
    "## Expansion of the Universe"
   ]
  },
  {
   "cell_type": "code",
   "execution_count": null,
   "metadata": {},
   "outputs": [],
   "source": [
    "import numpy as np\n",
    "import astropy.units as unit\n",
    "from numkit import rk4_step"
   ]
  },
  {
   "cell_type": "code",
   "execution_count": null,
   "metadata": {},
   "outputs": [],
   "source": [
    "# Hubble constant with astropy units\n",
    "H0 = 67.7*unit.km/unit.s/unit.Mpc\n",
    "print(\"H0 = {:.2e}\".format(H0.to(1/unit.Gyr)))\n",
    "\n",
    "# dictionary of cosmological models\n",
    "cosmology = {\n",
    "    'standard' : (0.309, 1e-5, 0.691),\n",
    "    'matter sub'   : (0.309, 1e-5, 0),\n",
    "    'matter crit'  : (1, 0, 0),\n",
    "    'matter super' : (2, 0, 0),\n",
    "}"
   ]
  },
  {
   "cell_type": "markdown",
   "metadata": {},
   "source": [
    "Friedmann equation"
   ]
  },
  {
   "cell_type": "code",
   "execution_count": null,
   "metadata": {},
   "outputs": [],
   "source": [
    "def dota(t, a, OmegaM, OmegaR, OmegaL, H0):\n",
    "    Omega0 = OmegaM + OmegaR + OmegaL\n",
    "    return H0 * (OmegaM/a + OmegaR/a**2 + OmegaL*a**2 + 1 - Omega0)**(1/2)"
   ]
  },
  {
   "cell_type": "markdown",
   "metadata": {},
   "source": [
    "Test of numerical time step"
   ]
  },
  {
   "cell_type": "code",
   "execution_count": null,
   "metadata": {},
   "outputs": [],
   "source": [
    "# numerical values for time in Gyr\n",
    "H0_num = H0.to(1/unit.Gyr).value\n",
    "t_H = 1/H0_num\n",
    "\n",
    "t_max = 0.1*t_H\n",
    "n = 10\n",
    "\n",
    "while n <= 1000:\n",
    "    t, a = 0, 0.01 # initial values\n",
    "    dt = t_max/n   # time step\n",
    "\n",
    "    # numerical integration from 0 to t_max\n",
    "    for i in range(n):\n",
    "        a = rk4_step(dota, t, a, dt, *cosmology['standard'], H0_num)\n",
    "        t += dt \n",
    "    \n",
    "    print(\"{:4d} {:.8e}\".format(n,a))\n",
    "    n *= 2"
   ]
  },
  {
   "cell_type": "markdown",
   "metadata": {},
   "source": [
    "Integration of Friedmann equation"
   ]
  },
  {
   "cell_type": "code",
   "execution_count": null,
   "metadata": {},
   "outputs": [],
   "source": [
    "import matplotlib.pyplot as plt\n",
    "%matplotlib inline\n",
    "\n",
    "fig = plt.figure(figsize=(6, 4), dpi=100)\n",
    "\n",
    "n = 1000\n",
    "dt = 2*t_H/n\n",
    "t = np.linspace(0, 2*t_H, n+1)\n",
    "\n",
    "for model in cosmology:\n",
    "    a = np.zeros(n+1)\n",
    "    a[0] = 1e-2\n",
    "\n",
    "    # numerical integration of the model\n",
    "    for i in range(n):\n",
    "        a[i+1] = rk4_step(dota, t[i], a[i], dt, *cosmology[model], H0_num)\n",
    "    \n",
    "    # plot the scale factor as function of time\n",
    "    label = \"$\\Omega_{\\mathrm{M}}=$\"\n",
    "    label += \"{:.1f}, $\\Omega_\\Lambda=${:.1f}\".\\\n",
    "        format(cosmology[model][0],cosmology[model][2])\n",
    "    if model == \"standard\":\n",
    "        plt.plot(t, a, label=label)\n",
    "    else:\n",
    "        plt.plot(t, a, ls='dashed', label=label)\n",
    "    \n",
    "plt.xlabel(\"$t$ / Gyr\")\n",
    "plt.ylabel(\"$a$\")\n",
    "plt.legend()\n",
    "plt.savefig(\"scale_fct_evol.pdf\")"
   ]
  },
  {
   "cell_type": "markdown",
   "metadata": {},
   "source": [
    "#### Standard cosmology: transition time"
   ]
  },
  {
   "cell_type": "code",
   "execution_count": null,
   "metadata": {},
   "outputs": [],
   "source": [
    "n = int(t_H/dt)\n",
    "a = np.zeros(n+1)\n",
    "a[0] = 1e-2\n",
    "\n",
    "for i in range(n):\n",
    "    a[i+1] = rk4_step(dota, i*dt, a[i], dt, *cosmology['standard'], H0_num)\n",
    "\n",
    "# compute second derivative of scale factor\n",
    "# and terminate if sign reverses\n",
    "i = 0\n",
    "ddota = -1 # arbitrary start value\n",
    "while ddota < 0 and i < n:\n",
    "    i += 1\n",
    "    # second-order centered differences\n",
    "    ddota = (a[i+1] - 2*a[i] + a[i-1])/dt**2\n",
    "    \n",
    "if ddota >= 0:\n",
    "    print(\"Transition time = {:.2f} Gyr\".format(i*dt))\n",
    "else:\n",
    "    print(\"Transition time not reached\")"
   ]
  },
  {
   "cell_type": "code",
   "execution_count": null,
   "metadata": {},
   "outputs": [],
   "source": []
  }
 ],
 "metadata": {
  "kernelspec": {
   "display_name": "Python 3",
   "language": "python",
   "name": "python3"
  },
  "language_info": {
   "codemirror_mode": {
    "name": "ipython",
    "version": 3
   },
   "file_extension": ".py",
   "mimetype": "text/x-python",
   "name": "python",
   "nbconvert_exporter": "python",
   "pygments_lexer": "ipython3",
   "version": "3.7.9"
  }
 },
 "nbformat": 4,
 "nbformat_minor": 2
}
