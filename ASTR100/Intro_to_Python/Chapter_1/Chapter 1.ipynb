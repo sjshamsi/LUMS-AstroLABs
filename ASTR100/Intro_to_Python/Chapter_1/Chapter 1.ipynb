{
 "cells": [
  {
   "cell_type": "markdown",
   "metadata": {
    "tags": []
   },
   "source": [
    "# Chapter 1: Python Basics"
   ]
  },
  {
   "cell_type": "markdown",
   "metadata": {
    "tags": []
   },
   "source": [
    "## Understanding expressions and assignments"
   ]
  },
  {
   "cell_type": "code",
   "execution_count": 1,
   "metadata": {},
   "outputs": [
    {
     "data": {
      "text/plain": [
       "29.783388086185045"
      ]
     },
     "execution_count": 1,
     "metadata": {},
     "output_type": "execute_result"
    }
   ],
   "source": [
    "2*3.14159*1.496e8/3.156e7"
   ]
  },
  {
   "cell_type": "code",
   "execution_count": 2,
   "metadata": {},
   "outputs": [],
   "source": [
    "radius = 1.496e8 # orbital radius in km\n",
    "period = 3.156e7 # orbital period in s\n",
    "\n",
    "# calculate orbital velocity\n",
    "velocity = 2*3.14159*radius/period"
   ]
  },
  {
   "cell_type": "code",
   "execution_count": 3,
   "metadata": {},
   "outputs": [
    {
     "name": "stdout",
     "output_type": "stream",
     "text": [
      "29.783388086185045\n"
     ]
    }
   ],
   "source": [
    "print(velocity)"
   ]
  },
  {
   "cell_type": "code",
   "execution_count": 4,
   "metadata": {},
   "outputs": [
    {
     "name": "stdout",
     "output_type": "stream",
     "text": [
      "orbital velocity = 29.783388086185045 km/s\n"
     ]
    }
   ],
   "source": [
    "print(\"orbital velocity =\", velocity, \"km/s\")"
   ]
  },
  {
   "cell_type": "code",
   "execution_count": 5,
   "metadata": {},
   "outputs": [
    {
     "name": "stdout",
     "output_type": "stream",
     "text": [
      "orbital velocity = 29.78 km/s\n"
     ]
    }
   ],
   "source": [
    "print(\"orbital velocity = {:5.2f} km/s\".format(velocity))"
   ]
  },
  {
   "cell_type": "code",
   "execution_count": 6,
   "metadata": {},
   "outputs": [
    {
     "name": "stdout",
     "output_type": "stream",
     "text": [
      "new orbital radius = 1.496e+09 km\n"
     ]
    }
   ],
   "source": [
    "radius = 10*radius\n",
    "print(\"new orbital radius = {:.3e} km\".format(radius))"
   ]
  },
  {
   "cell_type": "code",
   "execution_count": 7,
   "metadata": {},
   "outputs": [
    {
     "name": "stdout",
     "output_type": "stream",
     "text": [
      "new orbital period = 31.6 yr\n",
      "new orbital velocity = 9.42 km/s\n"
     ]
    }
   ],
   "source": [
    "# use Kepler's third law to calculate period in s from radius in km\n",
    "period = 2*3.14159 * (6.674e-11*1.989e30)**(-1/2) * \\\n",
    "         (1e3*radius)**(3/2) \n",
    "# print period in yr\n",
    "print(\"new orbital period = {:.1f} yr\".format(period/3.156e7))\n",
    "\n",
    "velocity = 2*3.14159*radius/period\n",
    "print(\"new orbital velocity = {:.2f} km/s\".format(velocity))"
   ]
  },
  {
   "cell_type": "markdown",
   "metadata": {},
   "source": [
    "## Control structures"
   ]
  },
  {
   "cell_type": "markdown",
   "metadata": {},
   "source": [
    "### Arithmetic series"
   ]
  },
  {
   "cell_type": "code",
   "execution_count": 8,
   "metadata": {},
   "outputs": [
    {
     "name": "stdout",
     "output_type": "stream",
     "text": [
      "Sum = 5050\n"
     ]
    }
   ],
   "source": [
    "sum = 0 # initialization\n",
    "n = 100 # number of iterations\n",
    "\n",
    "for k in range(1,n+1): # k running from 1 to n\n",
    "    sum = sum + k      # iteration of sum\n",
    "    #print(k,sum)\n",
    "    \n",
    "print(\"Sum =\", sum)"
   ]
  },
  {
   "cell_type": "code",
   "execution_count": null,
   "metadata": {},
   "outputs": [],
   "source": [
    "# Gauss formula\n",
    "print(\"Sum =\", int(n*(n+1)/2))"
   ]
  },
  {
   "cell_type": "markdown",
   "metadata": {},
   "source": [
    "### Fibonacci numbers"
   ]
  },
  {
   "cell_type": "code",
   "execution_count": null,
   "metadata": {},
   "outputs": [],
   "source": [
    "# how many numbers to compute\n",
    "n_max = 10 \n",
    "\n",
    "# initialize variables\n",
    "F_prev = 0 # 0. number \n",
    "F = 1      # 1. number\n",
    "\n",
    "# compute sequence of Fibonacci numbers\n",
    "for n in range(1,n_max+1):\n",
    "    #print(\"{:d}. Fibonacci number = {:d}\".format(n,F))\n",
    "    print(f\"{n:d}. Fibonacci number = {F:d}\")\n",
    "\n",
    "    # next number is sum of F and the previous number\n",
    "    F_next = F + F_prev\n",
    "    #print(n, F_prev, F, F_next)\n",
    "    \n",
    "    # prepare next iteration\n",
    "    F_prev = F # first reset F_prev\n",
    "    F = F_next # then assign next number to F"
   ]
  },
  {
   "cell_type": "code",
   "execution_count": null,
   "metadata": {},
   "outputs": [],
   "source": [
    "# initialize variables\n",
    "F_prev = 0 # 0. number \n",
    "n,F = 1,1  # 1. number\n",
    "\n",
    "# compute sequence of Fibonacci numbers smaller than 1000\n",
    "while F < 1000:\n",
    "    print(\"{:d}. Fibonacci number = {:d}\".format(n,F))\n",
    "    \n",
    "    # next number is sum of F and the previous number\n",
    "    F_next = F + F_prev\n",
    "    \n",
    "    # prepare next iteration\n",
    "    #F_prev = F # first reset F_prev\n",
    "    #F = F_next # then assign next number to F\n",
    "    F_prev,F = F,F_next\n",
    "    n += 1     # increment counter"
   ]
  },
  {
   "cell_type": "code",
   "execution_count": null,
   "metadata": {},
   "outputs": [],
   "source": [
    "# initialize variables\n",
    "F_prev = 0 # 0. number \n",
    "F = 1      # 1. number\n",
    "n_even = 0 \n",
    "n_odd = 0\n",
    "\n",
    "# compute sequence of Fibonacci numbers smaller than 1000\n",
    "while F < 1000: \n",
    "    # next number is sum of F and the previous number\n",
    "    F_next = F + F_prev\n",
    "    \n",
    "    # prepare next iteration\n",
    "    F_prev = F # first reset F_prev\n",
    "    F = F_next # then assign next number to F\n",
    "    \n",
    "    # test if F is even (divisible by two) or odd\n",
    "    if F%2 == 0:\n",
    "        n_even += 1\n",
    "    else:\n",
    "        n_odd += 1\n",
    "        \n",
    "print(\"Found {0:d} even and {1:d} odd Fibonacci numbers\".\\\n",
    "      format(n_even,n_odd))"
   ]
  },
  {
   "cell_type": "markdown",
   "metadata": {},
   "source": [
    "## Working with modules and objects"
   ]
  },
  {
   "cell_type": "markdown",
   "metadata": {},
   "source": [
    "### SciPy constants"
   ]
  },
  {
   "cell_type": "markdown",
   "metadata": {},
   "source": [
    "For more information about constants, see [docs.scipy.org/doc/scipy/reference/constants.html](https://docs.scipy.org/doc/scipy/reference/constants.html)."
   ]
  },
  {
   "cell_type": "code",
   "execution_count": null,
   "metadata": {},
   "outputs": [],
   "source": [
    "import scipy.constants\n",
    "\n",
    "scipy.constants.gravitational_constant"
   ]
  },
  {
   "cell_type": "code",
   "execution_count": null,
   "metadata": {},
   "outputs": [],
   "source": [
    "import scipy.constants as const"
   ]
  },
  {
   "cell_type": "code",
   "execution_count": null,
   "metadata": {},
   "outputs": [],
   "source": [
    "dir(const)"
   ]
  },
  {
   "cell_type": "code",
   "execution_count": null,
   "metadata": {},
   "outputs": [],
   "source": [
    "# gravitational constant\n",
    "const.G"
   ]
  },
  {
   "cell_type": "markdown",
   "metadata": {},
   "source": [
    "There is also a dictionary of physical constants:"
   ]
  },
  {
   "cell_type": "code",
   "execution_count": null,
   "metadata": {},
   "outputs": [],
   "source": [
    "from scipy.constants import physical_constants\n",
    "\n",
    "print(physical_constants['Newtonian constant of gravitation'])"
   ]
  },
  {
   "cell_type": "markdown",
   "metadata": {},
   "source": [
    "### Orbital velocity"
   ]
  },
  {
   "cell_type": "code",
   "execution_count": null,
   "metadata": {},
   "outputs": [],
   "source": [
    "from math import pi,sqrt\n",
    "from astropy.constants import M_sun\n",
    "from scipy.constants import G,au,year\n",
    "\n",
    "print(\"1 au =\", au, \"m\")\n",
    "print(\"1 yr =\", year, \"s\")\n",
    "\n",
    "radius = 10*au\n",
    "print(\"\\nradial distance = {:.1f} au\".format(radius/au))\n",
    "\n",
    "# Kepler's third law \n",
    "period = 2*pi * sqrt(radius**3/(G*M_sun.value))\n",
    "print(\"orbital period = {:.4f} yr\".format(period/year))\n",
    "\n",
    "velocity = 2*pi * radius/period # velocity in m/s\n",
    "print(\"orbital velocity = {:.2f} km/s\".format(1e-3*velocity))"
   ]
  },
  {
   "cell_type": "code",
   "execution_count": null,
   "metadata": {},
   "outputs": [],
   "source": [
    "print(M_sun)"
   ]
  },
  {
   "cell_type": "markdown",
   "metadata": {},
   "source": [
    "See also [docs.astropy.org/en/stable/constants/](https://docs.astropy.org/en/stable/constants/)."
   ]
  },
  {
   "cell_type": "code",
   "execution_count": null,
   "metadata": {},
   "outputs": [],
   "source": []
  }
 ],
 "metadata": {
  "kernelspec": {
   "display_name": "Python 3 (ipykernel)",
   "language": "python",
   "name": "python3"
  },
  "language_info": {
   "codemirror_mode": {
    "name": "ipython",
    "version": 3
   },
   "file_extension": ".py",
   "mimetype": "text/x-python",
   "name": "python",
   "nbconvert_exporter": "python",
   "pygments_lexer": "ipython3",
   "version": "3.9.13"
  }
 },
 "nbformat": 4,
 "nbformat_minor": 4
}
