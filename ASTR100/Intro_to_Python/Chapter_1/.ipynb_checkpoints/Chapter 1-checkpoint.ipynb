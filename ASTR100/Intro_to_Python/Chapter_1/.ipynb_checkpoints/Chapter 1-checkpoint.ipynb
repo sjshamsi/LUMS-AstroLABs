{
 "cells": [
  {
   "cell_type": "markdown",
   "metadata": {
    "tags": []
   },
   "source": [
    "# Chapter 1: Python Basics"
   ]
  },
  {
   "cell_type": "markdown",
   "metadata": {},
   "source": [
    "Welcome to this first notebook in the **Introduction to Python** series. Jupyter notebooks continue to be one of the most popular mediums to communicate visualisations, computational results, and algorithms. Maybe you're already familiar with Python and Jupyter, or maybe you're encountering these for the first time. Either way, we'll be going through the basics of what you can do with Python using Jupyter."
   ]
  },
  {
   "cell_type": "markdown",
   "metadata": {
    "tags": []
   },
   "source": [
    "## Understanding expressions and assignments"
   ]
  },
  {
   "cell_type": "markdown",
   "metadata": {},
   "source": [
    "While you can do a lot with Python, one of the simplest things you can do is evaluate expressions by writing them in a line with the usual operators and running it. You can use `+` to add, `-` to subtract, `*` to multiply, and `/` to divide. Kind of like a glorified calculator!\n",
    "\n",
    "Note the different kinds of numbers, including the scientific notation as $10^n = En$ or $en$"
   ]
  },
  {
   "cell_type": "code",
   "execution_count": 2,
   "metadata": {},
   "outputs": [
    {
     "data": {
      "text/plain": [
       "29.783388086185045"
      ]
     },
     "execution_count": 2,
     "metadata": {},
     "output_type": "execute_result"
    }
   ],
   "source": [
    "2 * 3.14159 * 1.496e8 / 3.156e7"
   ]
  },
  {
   "cell_type": "markdown",
   "metadata": {},
   "source": [
    "With Python, you do get a set of other, more unique operators. `n**m` yields $n^m$, `n//m` results in floor division, yielding just the whole number quotient of division. `n%m` is the modulus operator, yielding the remainder from division."
   ]
  },
  {
   "cell_type": "code",
   "execution_count": 3,
   "metadata": {},
   "outputs": [
    {
     "name": "stdout",
     "output_type": "stream",
     "text": [
      "3**2 is 9\n",
      "13//3 is 4\n",
      "13%5 is 3\n"
     ]
    }
   ],
   "source": [
    "print('3**2 is', 3**2 )\n",
    "\n",
    "print('13//3 is', 13//3)\n",
    "\n",
    "print('13%5 is', 13%5)"
   ]
  },
  {
   "cell_type": "markdown",
   "metadata": {},
   "source": [
    "Of course, like many programming languages, you can assign variables to numbers (and more!). A variable is like a label for a particular object, and it can be easily reassigned too. Variables make it easy to write algorithms and store useful objects."
   ]
  },
  {
   "cell_type": "code",
   "execution_count": 4,
   "metadata": {},
   "outputs": [],
   "source": [
    "radius = 1.496e8 # orbital radius in km\n",
    "period = 3.156e7 # orbital period in s\n",
    "\n",
    "# calculate orbital velocity\n",
    "velocity = 2*3.14159*radius/period"
   ]
  },
  {
   "cell_type": "markdown",
   "metadata": {},
   "source": [
    "The `print` function is someting we're going to use a lot. It helps us write any object to the console, making it possible to see relevant objects and it's a handy tool to quickly debug code! Jupyter interfaces usually output a variable's associated object simply by typing the variable's name. However, we'll use `print` as it's good practice for when you're using more traditional scripting-compiling tools."
   ]
  },
  {
   "cell_type": "code",
   "execution_count": 5,
   "metadata": {},
   "outputs": [
    {
     "name": "stdout",
     "output_type": "stream",
     "text": [
      "29.783388086185045\n"
     ]
    }
   ],
   "source": [
    "print(velocity)"
   ]
  },
  {
   "cell_type": "markdown",
   "metadata": {},
   "source": [
    "`print` is pretty versitile, and it can combine different outputs! Below we print the variable but surround it with strings which clarify what the printed number is. It's good practice to output human readible and coherent content, to eliminate any confusion about units, context, etc."
   ]
  },
  {
   "cell_type": "code",
   "execution_count": 6,
   "metadata": {},
   "outputs": [
    {
     "name": "stdout",
     "output_type": "stream",
     "text": [
      "orbital velocity = 29.783388086185045 km/s\n"
     ]
    }
   ],
   "source": [
    "print(\"orbital velocity =\", velocity, \"km/s\")"
   ]
  },
  {
   "cell_type": "markdown",
   "metadata": {},
   "source": [
    "Python strings provide a wide array of formatting options to output numbers, other strings, etc. The `format` method is used to 'pass-on' a variable to a portion in the string enclosed by {} brackets. Within the brackets, different format options deermine how the passed-on variable is displayed. For example, the `5` in `{:5.2f}` means that the output will be displayed over 5 spaces. The `.2` signifies that the output would be rounded to 2 decimal places. The `f` signifies that the output will be in the format of a fixed point number. To read up more about `format`, see this [W3 Schools Article](https://www.w3schools.com/python/ref_string_format.asp)."
   ]
  },
  {
   "cell_type": "code",
   "execution_count": 7,
   "metadata": {},
   "outputs": [
    {
     "name": "stdout",
     "output_type": "stream",
     "text": [
      "orbital velocity = 29.78 km/s\n"
     ]
    }
   ],
   "source": [
    "print(\"orbital velocity = {:5.2f} km/s\".format(velocity))"
   ]
  },
  {
   "cell_type": "markdown",
   "metadata": {},
   "source": [
    "Variables might also be reassigned to a different number/value. They could even be reassigned using their current value! In the example below, we update the `radius` variable so the updated value is 10 times the old one."
   ]
  },
  {
   "cell_type": "code",
   "execution_count": 8,
   "metadata": {},
   "outputs": [
    {
     "name": "stdout",
     "output_type": "stream",
     "text": [
      "new orbital radius = 1.496e+09 km\n"
     ]
    }
   ],
   "source": [
    "radius = 10*radius\n",
    "print(\"new orbital radius = {:.3e} km\".format(radius))"
   ]
  },
  {
   "cell_type": "markdown",
   "metadata": {},
   "source": [
    "Can you see how new values for period and velocity are calculated from their respective formulae? "
   ]
  },
  {
   "cell_type": "code",
   "execution_count": 9,
   "metadata": {},
   "outputs": [
    {
     "name": "stdout",
     "output_type": "stream",
     "text": [
      "new orbital period = 31.6 yr\n",
      "new orbital velocity = 9.42 km/s\n"
     ]
    }
   ],
   "source": [
    "# use Kepler's third law to calculate period in s from radius in km\n",
    "period = 2 * 3.14159 * (6.674e-11 * 1.989e30)**(-1/2) * \\\n",
    "         (1e3 * radius)**(3/2) \n",
    "# print period in yr\n",
    "print(\"new orbital period = {:.1f} yr\".format(period/3.156e7))\n",
    "\n",
    "velocity = 2 * 3.14159*radius/period\n",
    "print(\"new orbital velocity = {:.2f} km/s\".format(velocity))"
   ]
  },
  {
   "cell_type": "markdown",
   "metadata": {
    "tags": []
   },
   "source": [
    "## Control structures"
   ]
  },
  {
   "cell_type": "markdown",
   "metadata": {},
   "source": [
    "### Arithmetic series"
   ]
  },
  {
   "cell_type": "markdown",
   "metadata": {},
   "source": [
    "Python and other languages give us a way to leverage the power of computation to perform tasks which can be tedious, error-prone, and indeed impossible for humans to do by hand. For instance, how do we sum up all the numbers from 1 to n? We could use a Python loop! The following code iterates over a range of numbers from 1 to n, and adds them all up."
   ]
  },
  {
   "cell_type": "code",
   "execution_count": 27,
   "metadata": {},
   "outputs": [
    {
     "name": "stdout",
     "output_type": "stream",
     "text": [
      "Sum = 5050\n"
     ]
    }
   ],
   "source": [
    "sum = 0 # initialization\n",
    "n = 100 # number of iterations\n",
    "\n",
    "for k in range(1, n+1): # k running from 1 to n\n",
    "    sum = sum + k      # iteration of sum\n",
    "    #print(k,sum)\n",
    "    \n",
    "print(\"Sum =\", sum)"
   ]
  },
  {
   "cell_type": "markdown",
   "metadata": {},
   "source": [
    "We can check this by employing the Gauss sum formula"
   ]
  },
  {
   "cell_type": "code",
   "execution_count": 29,
   "metadata": {},
   "outputs": [
    {
     "name": "stdout",
     "output_type": "stream",
     "text": [
      "Sum = 5050\n"
     ]
    }
   ],
   "source": [
    "# Gauss formula\n",
    "print(\"Sum =\", int(n * (n+1) / 2))"
   ]
  },
  {
   "cell_type": "markdown",
   "metadata": {},
   "source": [
    "### Fibonacci numbers"
   ]
  },
  {
   "cell_type": "markdown",
   "metadata": {},
   "source": [
    "The following code calculates Fibonacci numbers in the sequence from 1 to n_max."
   ]
  },
  {
   "cell_type": "code",
   "execution_count": 30,
   "metadata": {},
   "outputs": [
    {
     "name": "stdout",
     "output_type": "stream",
     "text": [
      "1. Fibonacci number = 1\n",
      "2. Fibonacci number = 1\n",
      "3. Fibonacci number = 2\n",
      "4. Fibonacci number = 3\n",
      "5. Fibonacci number = 5\n",
      "6. Fibonacci number = 8\n",
      "7. Fibonacci number = 13\n",
      "8. Fibonacci number = 21\n",
      "9. Fibonacci number = 34\n",
      "10. Fibonacci number = 55\n"
     ]
    }
   ],
   "source": [
    "# how many numbers to compute\n",
    "n_max = 10 \n",
    "\n",
    "# initialize variables\n",
    "F_prev = 0 # 0. number \n",
    "F = 1      # 1. number\n",
    "\n",
    "# compute sequence of Fibonacci numbers\n",
    "for n in range(1, n_max+1):\n",
    "    #print(\"{:d}. Fibonacci number = {:d}\".format(n,F))\n",
    "    print(f\"{n:d}. Fibonacci number = {F:d}\")\n",
    "\n",
    "    # next number is sum of F and the previous number\n",
    "    F_next = F + F_prev\n",
    "    #print(n, F_prev, F, F_next)\n",
    "    \n",
    "    # prepare next iteration\n",
    "    F_prev = F # first reset F_prev\n",
    "    F = F_next # then assign next number to F"
   ]
  },
  {
   "cell_type": "markdown",
   "metadata": {},
   "source": [
    "Alternatively, a while loop can help us find Fibonacci numbers below a certain value."
   ]
  },
  {
   "cell_type": "code",
   "execution_count": 31,
   "metadata": {},
   "outputs": [
    {
     "name": "stdout",
     "output_type": "stream",
     "text": [
      "1. Fibonacci number = 1\n",
      "2. Fibonacci number = 1\n",
      "3. Fibonacci number = 2\n",
      "4. Fibonacci number = 3\n",
      "5. Fibonacci number = 5\n",
      "6. Fibonacci number = 8\n",
      "7. Fibonacci number = 13\n",
      "8. Fibonacci number = 21\n",
      "9. Fibonacci number = 34\n",
      "10. Fibonacci number = 55\n",
      "11. Fibonacci number = 89\n",
      "12. Fibonacci number = 144\n",
      "13. Fibonacci number = 233\n",
      "14. Fibonacci number = 377\n",
      "15. Fibonacci number = 610\n",
      "16. Fibonacci number = 987\n"
     ]
    }
   ],
   "source": [
    "# initialize variables\n",
    "F_prev = 0 # 0. number \n",
    "n, F = 1, 1  # 1. number\n",
    "\n",
    "# compute sequence of Fibonacci numbers smaller than 1000\n",
    "while F < 1000:\n",
    "    print(\"{:d}. Fibonacci number = {:d}\".format(n, F))\n",
    "    \n",
    "    # next number is sum of F and the previous number\n",
    "    F_next = F + F_prev\n",
    "    \n",
    "    # prepare next iteration\n",
    "    #F_prev = F # first reset F_prev\n",
    "    #F = F_next # then assign next number to F\n",
    "    F_prev, F = F, F_next\n",
    "    n += 1     # increment counter"
   ]
  },
  {
   "cell_type": "markdown",
   "metadata": {},
   "source": [
    "How about using the while loop to count odd and even numbers below a certain value?"
   ]
  },
  {
   "cell_type": "code",
   "execution_count": 32,
   "metadata": {},
   "outputs": [
    {
     "name": "stdout",
     "output_type": "stream",
     "text": [
      "Found 5 even and 11 odd Fibonacci numbers\n"
     ]
    }
   ],
   "source": [
    "# initialize variables\n",
    "F_prev = 0 # 0. number \n",
    "F = 1      # 1. number\n",
    "n_even = 0 \n",
    "n_odd = 0\n",
    "\n",
    "# compute sequence of Fibonacci numbers smaller than 1000\n",
    "while F < 1000: \n",
    "    # next number is sum of F and the previous number\n",
    "    F_next = F + F_prev\n",
    "    \n",
    "    # prepare next iteration\n",
    "    F_prev = F # first reset F_prev\n",
    "    F = F_next # then assign next number to F\n",
    "    \n",
    "    # test if F is even (divisible by two) or odd\n",
    "    if F%2 == 0:\n",
    "        n_even += 1\n",
    "    else:\n",
    "        n_odd += 1\n",
    "        \n",
    "print(\"Found {0:d} even and {1:d} odd Fibonacci numbers\".\\\n",
    "      format(n_even, n_odd))"
   ]
  },
  {
   "cell_type": "markdown",
   "metadata": {
    "tags": []
   },
   "source": [
    "## Working with modules and objects"
   ]
  },
  {
   "cell_type": "markdown",
   "metadata": {},
   "source": [
    "Of course, science with Python wouldn't be the same without its powerful libraries enabling functionalities in areas like visualisation, mathematics, data processing, machine learning, and many more. SciPy is a library providing tools and methods for scientific use. "
   ]
  },
  {
   "cell_type": "markdown",
   "metadata": {},
   "source": [
    "### SciPy constants"
   ]
  },
  {
   "cell_type": "markdown",
   "metadata": {},
   "source": [
    "For more information about constants, see [docs.scipy.org/doc/scipy/reference/constants.html](https://docs.scipy.org/doc/scipy/reference/constants.html)."
   ]
  },
  {
   "cell_type": "code",
   "execution_count": 34,
   "metadata": {},
   "outputs": [
    {
     "data": {
      "text/plain": [
       "6.6743e-11"
      ]
     },
     "execution_count": 34,
     "metadata": {},
     "output_type": "execute_result"
    }
   ],
   "source": [
    "import scipy.constants\n",
    "\n",
    "scipy.constants.gravitational_constant"
   ]
  },
  {
   "cell_type": "code",
   "execution_count": 35,
   "metadata": {},
   "outputs": [],
   "source": [
    "import scipy.constants as const"
   ]
  },
  {
   "cell_type": "code",
   "execution_count": 36,
   "metadata": {
    "scrolled": true,
    "tags": []
   },
   "outputs": [
    {
     "data": {
      "text/plain": [
       "['Avogadro',\n",
       " 'Boltzmann',\n",
       " 'Btu',\n",
       " 'Btu_IT',\n",
       " 'Btu_th',\n",
       " 'ConstantWarning',\n",
       " 'G',\n",
       " 'Julian_year',\n",
       " 'N_A',\n",
       " 'Planck',\n",
       " 'R',\n",
       " 'Rydberg',\n",
       " 'Stefan_Boltzmann',\n",
       " 'Wien',\n",
       " '__all__',\n",
       " '__builtins__',\n",
       " '__cached__',\n",
       " '__doc__',\n",
       " '__file__',\n",
       " '__loader__',\n",
       " '__name__',\n",
       " '__package__',\n",
       " '__path__',\n",
       " '__spec__',\n",
       " '_codata',\n",
       " '_constants',\n",
       " '_obsolete_constants',\n",
       " 'acre',\n",
       " 'alpha',\n",
       " 'angstrom',\n",
       " 'arcmin',\n",
       " 'arcminute',\n",
       " 'arcsec',\n",
       " 'arcsecond',\n",
       " 'astronomical_unit',\n",
       " 'atm',\n",
       " 'atmosphere',\n",
       " 'atomic_mass',\n",
       " 'atto',\n",
       " 'au',\n",
       " 'bar',\n",
       " 'barrel',\n",
       " 'bbl',\n",
       " 'blob',\n",
       " 'c',\n",
       " 'calorie',\n",
       " 'calorie_IT',\n",
       " 'calorie_th',\n",
       " 'carat',\n",
       " 'centi',\n",
       " 'codata',\n",
       " 'constants',\n",
       " 'convert_temperature',\n",
       " 'day',\n",
       " 'deci',\n",
       " 'degree',\n",
       " 'degree_Fahrenheit',\n",
       " 'deka',\n",
       " 'dyn',\n",
       " 'dyne',\n",
       " 'e',\n",
       " 'eV',\n",
       " 'electron_mass',\n",
       " 'electron_volt',\n",
       " 'elementary_charge',\n",
       " 'epsilon_0',\n",
       " 'erg',\n",
       " 'exa',\n",
       " 'exbi',\n",
       " 'femto',\n",
       " 'fermi',\n",
       " 'find',\n",
       " 'fine_structure',\n",
       " 'fluid_ounce',\n",
       " 'fluid_ounce_US',\n",
       " 'fluid_ounce_imp',\n",
       " 'foot',\n",
       " 'g',\n",
       " 'gallon',\n",
       " 'gallon_US',\n",
       " 'gallon_imp',\n",
       " 'gas_constant',\n",
       " 'gibi',\n",
       " 'giga',\n",
       " 'golden',\n",
       " 'golden_ratio',\n",
       " 'grain',\n",
       " 'gram',\n",
       " 'gravitational_constant',\n",
       " 'h',\n",
       " 'hbar',\n",
       " 'hectare',\n",
       " 'hecto',\n",
       " 'horsepower',\n",
       " 'hour',\n",
       " 'hp',\n",
       " 'inch',\n",
       " 'k',\n",
       " 'kgf',\n",
       " 'kibi',\n",
       " 'kilo',\n",
       " 'kilogram_force',\n",
       " 'kmh',\n",
       " 'knot',\n",
       " 'lambda2nu',\n",
       " 'lb',\n",
       " 'lbf',\n",
       " 'light_year',\n",
       " 'liter',\n",
       " 'litre',\n",
       " 'long_ton',\n",
       " 'm_e',\n",
       " 'm_n',\n",
       " 'm_p',\n",
       " 'm_u',\n",
       " 'mach',\n",
       " 'mebi',\n",
       " 'mega',\n",
       " 'metric_ton',\n",
       " 'micro',\n",
       " 'micron',\n",
       " 'mil',\n",
       " 'mile',\n",
       " 'milli',\n",
       " 'minute',\n",
       " 'mmHg',\n",
       " 'mph',\n",
       " 'mu_0',\n",
       " 'nano',\n",
       " 'nautical_mile',\n",
       " 'neutron_mass',\n",
       " 'nu2lambda',\n",
       " 'ounce',\n",
       " 'oz',\n",
       " 'parsec',\n",
       " 'pebi',\n",
       " 'peta',\n",
       " 'physical_constants',\n",
       " 'pi',\n",
       " 'pico',\n",
       " 'point',\n",
       " 'pound',\n",
       " 'pound_force',\n",
       " 'precision',\n",
       " 'proton_mass',\n",
       " 'psi',\n",
       " 'pt',\n",
       " 'short_ton',\n",
       " 'sigma',\n",
       " 'slinch',\n",
       " 'slug',\n",
       " 'speed_of_light',\n",
       " 'speed_of_sound',\n",
       " 'stone',\n",
       " 'survey_foot',\n",
       " 'survey_mile',\n",
       " 'tebi',\n",
       " 'tera',\n",
       " 'test',\n",
       " 'ton_TNT',\n",
       " 'torr',\n",
       " 'troy_ounce',\n",
       " 'troy_pound',\n",
       " 'u',\n",
       " 'unit',\n",
       " 'value',\n",
       " 'week',\n",
       " 'yard',\n",
       " 'year',\n",
       " 'yobi',\n",
       " 'yocto',\n",
       " 'yotta',\n",
       " 'zebi',\n",
       " 'zepto',\n",
       " 'zero_Celsius',\n",
       " 'zetta']"
      ]
     },
     "execution_count": 36,
     "metadata": {},
     "output_type": "execute_result"
    }
   ],
   "source": [
    "dir(const)"
   ]
  },
  {
   "cell_type": "code",
   "execution_count": 37,
   "metadata": {},
   "outputs": [
    {
     "data": {
      "text/plain": [
       "6.6743e-11"
      ]
     },
     "execution_count": 37,
     "metadata": {},
     "output_type": "execute_result"
    }
   ],
   "source": [
    "# gravitational constant\n",
    "const.G"
   ]
  },
  {
   "cell_type": "markdown",
   "metadata": {},
   "source": [
    "There is also a dictionary of physical constants:"
   ]
  },
  {
   "cell_type": "code",
   "execution_count": 38,
   "metadata": {},
   "outputs": [
    {
     "name": "stdout",
     "output_type": "stream",
     "text": [
      "(6.6743e-11, 'm^3 kg^-1 s^-2', 1.5e-15)\n"
     ]
    }
   ],
   "source": [
    "from scipy.constants import physical_constants\n",
    "\n",
    "print(physical_constants['Newtonian constant of gravitation'])"
   ]
  },
  {
   "cell_type": "markdown",
   "metadata": {},
   "source": [
    "### Orbital velocity"
   ]
  },
  {
   "cell_type": "code",
   "execution_count": 39,
   "metadata": {},
   "outputs": [
    {
     "name": "stdout",
     "output_type": "stream",
     "text": [
      "1 au = 149597870700.0 m\n",
      "1 yr = 31536000.0 s\n",
      "\n",
      "radial distance = 10.0 au\n",
      "orbital period = 31.6450 yr\n",
      "orbital velocity = 9.42 km/s\n"
     ]
    }
   ],
   "source": [
    "from math import pi,sqrt\n",
    "from astropy.constants import M_sun\n",
    "from scipy.constants import G,au,year\n",
    "\n",
    "print(\"1 au =\", au, \"m\")\n",
    "print(\"1 yr =\", year, \"s\")\n",
    "\n",
    "radius = 10*au\n",
    "print(\"\\nradial distance = {:.1f} au\".format(radius/au))\n",
    "\n",
    "# Kepler's third law \n",
    "period = 2*pi * sqrt(radius**3/(G*M_sun.value))\n",
    "print(\"orbital period = {:.4f} yr\".format(period/year))\n",
    "\n",
    "velocity = 2*pi * radius/period # velocity in m/s\n",
    "print(\"orbital velocity = {:.2f} km/s\".format(1e-3*velocity))"
   ]
  },
  {
   "cell_type": "code",
   "execution_count": 40,
   "metadata": {},
   "outputs": [
    {
     "name": "stdout",
     "output_type": "stream",
     "text": [
      "  Name   = Solar mass\n",
      "  Value  = 1.988409870698051e+30\n",
      "  Uncertainty  = 4.468805426856864e+25\n",
      "  Unit  = kg\n",
      "  Reference = IAU 2015 Resolution B 3 + CODATA 2018\n"
     ]
    }
   ],
   "source": [
    "print(M_sun)"
   ]
  },
  {
   "cell_type": "markdown",
   "metadata": {},
   "source": [
    "See also [docs.astropy.org/en/stable/constants/](https://docs.astropy.org/en/stable/constants/)."
   ]
  },
  {
   "cell_type": "code",
   "execution_count": 41,
   "metadata": {},
   "outputs": [],
   "source": [
    "s = 7.885676567657"
   ]
  },
  {
   "cell_type": "code",
   "execution_count": 42,
   "metadata": {},
   "outputs": [
    {
     "name": "stdout",
     "output_type": "stream",
     "text": [
      "My number is      7.886\n"
     ]
    }
   ],
   "source": [
    "print('My number is {:10.3f}'.format(s))"
   ]
  },
  {
   "cell_type": "code",
   "execution_count": 7,
   "metadata": {},
   "outputs": [
    {
     "data": {
      "text/plain": [
       "3"
      ]
     },
     "execution_count": 7,
     "metadata": {},
     "output_type": "execute_result"
    }
   ],
   "source": [
    "13%5"
   ]
  },
  {
   "cell_type": "code",
   "execution_count": 1,
   "metadata": {},
   "outputs": [],
   "source": [
    "print?"
   ]
  },
  {
   "cell_type": "code",
   "execution_count": null,
   "metadata": {},
   "outputs": [],
   "source": []
  }
 ],
 "metadata": {
  "kernelspec": {
   "display_name": "Python 3 (ipykernel)",
   "language": "python",
   "name": "python3"
  },
  "language_info": {
   "codemirror_mode": {
    "name": "ipython",
    "version": 3
   },
   "file_extension": ".py",
   "mimetype": "text/x-python",
   "name": "python",
   "nbconvert_exporter": "python",
   "pygments_lexer": "ipython3",
   "version": "3.9.13"
  }
 },
 "nbformat": 4,
 "nbformat_minor": 4
}
