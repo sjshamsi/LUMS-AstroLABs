{
 "cells": [
  {
   "cell_type": "markdown",
   "metadata": {},
   "source": [
    "# Appendix B: Making Python Faster"
   ]
  },
  {
   "cell_type": "markdown",
   "metadata": {},
   "source": [
    "## Using arrays"
   ]
  },
  {
   "cell_type": "markdown",
   "metadata": {},
   "source": [
    "#### Data types"
   ]
  },
  {
   "cell_type": "code",
   "execution_count": null,
   "metadata": {},
   "outputs": [],
   "source": [
    "N = [79, 171, 265, 355]"
   ]
  },
  {
   "cell_type": "code",
   "execution_count": null,
   "metadata": {},
   "outputs": [],
   "source": [
    "N[1], type(N[1]), type(N)"
   ]
  },
  {
   "cell_type": "code",
   "execution_count": null,
   "metadata": {},
   "outputs": [],
   "source": [
    "import numpy as np\n",
    "\n",
    "# convert to array\n",
    "N = np.array(N)\n",
    "\n",
    "print(N[1], N[1].dtype, N.dtype)"
   ]
  },
  {
   "cell_type": "code",
   "execution_count": null,
   "metadata": {},
   "outputs": [],
   "source": [
    "# redefine list \n",
    "N = [79, \"summer solstice\", 265, \"winter solstice\"]\n",
    "\n",
    "N[1], type(N[1]), type(N)"
   ]
  },
  {
   "cell_type": "code",
   "execution_count": null,
   "metadata": {},
   "outputs": [],
   "source": [
    "N[0], type(N[0]), type(N)"
   ]
  },
  {
   "cell_type": "markdown",
   "metadata": {},
   "source": [
    "#### Example: Planck spectrum"
   ]
  },
  {
   "cell_type": "markdown",
   "metadata": {},
   "source": [
    "Compute a Planck spectrum using lists"
   ]
  },
  {
   "cell_type": "code",
   "execution_count": null,
   "metadata": {},
   "outputs": [],
   "source": [
    "import math\n",
    "from scipy.constants import h,c,k,sigma"
   ]
  },
  {
   "cell_type": "code",
   "execution_count": null,
   "metadata": {},
   "outputs": [],
   "source": [
    "# list of wavenumbers\n",
    "n = 1000\n",
    "lambda_max = 2e-6\n",
    "lambda_step = lambda_max/n\n",
    "wavelength = [i*lambda_step for i in range(1,n+1)]"
   ]
  },
  {
   "cell_type": "code",
   "execution_count": null,
   "metadata": {},
   "outputs": [],
   "source": [
    "def planck_spectrum(wavelength, T=5778):\n",
    "    \n",
    "    # create empty list\n",
    "    spectrum = []\n",
    "\n",
    "    # loop over wavelengths and append flux values\n",
    "    for val in wavelength:\n",
    "        spectrum.append(2*h*c**2 / \n",
    "            (val**5 * (math.exp(min(700, h*c/(val*k*T))) - 1)))\n",
    "        \n",
    "    return spectrum"
   ]
  },
  {
   "cell_type": "code",
   "execution_count": null,
   "metadata": {},
   "outputs": [],
   "source": [
    "%timeit planck_spectrum(wavelength)"
   ]
  },
  {
   "cell_type": "markdown",
   "metadata": {},
   "source": [
    "Compute a Planck spectrum using arrays"
   ]
  },
  {
   "cell_type": "code",
   "execution_count": null,
   "metadata": {},
   "outputs": [],
   "source": [
    "import numpy as np\n",
    "\n",
    "# array of wavenumbers\n",
    "n = 1000\n",
    "lambda_max = 2e-6\n",
    "wavelength = np.linspace(lambda_max/n, lambda_max, n)"
   ]
  },
  {
   "cell_type": "code",
   "execution_count": null,
   "metadata": {},
   "outputs": [],
   "source": [
    "def planck_spectrum(wavelength, T=5778):\n",
    "    return 2*h*c**2 / (wavelength**5 * \n",
    "        (np.exp(np.minimum(700, h*c/(wavelength*k*T))) - 1))"
   ]
  },
  {
   "cell_type": "code",
   "execution_count": null,
   "metadata": {},
   "outputs": [],
   "source": [
    "%timeit planck_spectrum(wavelength)"
   ]
  },
  {
   "cell_type": "code",
   "execution_count": null,
   "metadata": {},
   "outputs": [],
   "source": [
    "solar = planck_spectrum(wavelength)"
   ]
  },
  {
   "cell_type": "code",
   "execution_count": null,
   "metadata": {},
   "outputs": [],
   "source": [
    "solar.flags"
   ]
  },
  {
   "cell_type": "markdown",
   "metadata": {},
   "source": [
    "#### Function calls\n",
    "\n",
    "Conventional implementation of trapezoidal rule with explcit loop and single-valued function calls:"
   ]
  },
  {
   "cell_type": "code",
   "execution_count": null,
   "metadata": {},
   "outputs": [],
   "source": [
    "def integr_trapez(f, a, b, n):\n",
    "    \n",
    "    # integration step\n",
    "    h = (b - a)/n\n",
    "    \n",
    "    # initialisation\n",
    "    tmp = 0.5*f(a)\n",
    "    \n",
    "    # loop over subintervals between a+h and b-h\n",
    "    for i in range(1,n):\n",
    "        tmp += f(a + i*h)\n",
    "        \n",
    "    tmp += 0.5*f(b)\n",
    "    \n",
    "    return h*tmp"
   ]
  },
  {
   "cell_type": "code",
   "execution_count": null,
   "metadata": {},
   "outputs": [],
   "source": [
    "# verification\n",
    "integr_trapez(math.sin, 0, math.pi/2, 20)"
   ]
  },
  {
   "cell_type": "code",
   "execution_count": null,
   "metadata": {
    "scrolled": true
   },
   "outputs": [],
   "source": [
    "%timeit integr_trapez(planck_spectrum, 1e-9, 364.7e-9, 100)"
   ]
  },
  {
   "cell_type": "markdown",
   "metadata": {},
   "source": [
    "Implementation using Numpy arrays"
   ]
  },
  {
   "cell_type": "code",
   "execution_count": null,
   "metadata": {},
   "outputs": [],
   "source": [
    "import numpy as np\n",
    "\n",
    "def integr_trapez(f, a, b, n):\n",
    "\n",
    "    # integration step\n",
    "    h = (b - a)/n\n",
    "    \n",
    "    # endpoints of subintervals between a+h and b-h\n",
    "    x = np.linspace(a+h, b-h, n-1)\n",
    "    \n",
    "    return 0.5*h*(f(a) + 2*np.sum(f(x)) + f(b))"
   ]
  },
  {
   "cell_type": "code",
   "execution_count": null,
   "metadata": {},
   "outputs": [],
   "source": [
    "%timeit integr_trapez(planck_spectrum, 1e-9, 364.7e-9, 100)"
   ]
  },
  {
   "cell_type": "markdown",
   "metadata": {},
   "source": [
    "## Cythonizing code"
   ]
  },
  {
   "cell_type": "code",
   "execution_count": null,
   "metadata": {},
   "outputs": [],
   "source": [
    "def rk4_step(f, t, x, dt):\n",
    "\n",
    "    k1 = dt * f(t, x)\n",
    "    k2 = dt * f(t + 0.5*dt, x + 0.5*k1)\n",
    "    k3 = dt * f(t + 0.5*dt, x + 0.5*k2)\n",
    "    k4 = dt * f(t + dt, x + k3) \n",
    "\n",
    "    return x + (k1 + 2*(k2 + k3) + k4)/6"
   ]
  },
  {
   "cell_type": "code",
   "execution_count": null,
   "metadata": {},
   "outputs": [],
   "source": [
    "import numpy as np\n",
    "\n",
    "def solve_stroemgren(r0, dt, n_steps):\n",
    "    t = np.linspace(0, n_steps*dt, n_steps+1)\n",
    "    r = np.zeros(n_steps+1)\n",
    "    r[0] = r0\n",
    "\n",
    "    for n in range(n_steps):\n",
    "        r[n+1] = rk4_step(lambda t, r: (1 - r**3)/(3*r**2),\n",
    "                          t[n], r[n], dt)\n",
    "\n",
    "    return (t,r)"
   ]
  },
  {
   "cell_type": "code",
   "execution_count": null,
   "metadata": {},
   "outputs": [],
   "source": [
    "%timeit solve_stroemgren(0.01, 1e-3, 10000)"
   ]
  },
  {
   "cell_type": "markdown",
   "metadata": {},
   "source": [
    "You need to run\n",
    "\n",
    "```python setup.py build_ext --inplace```\n",
    "\n",
    "on the command line to create the C-extension module stroemgren"
   ]
  },
  {
   "cell_type": "code",
   "execution_count": null,
   "metadata": {},
   "outputs": [],
   "source": [
    "import numpy as np\n",
    "from stroemgren import crk4_step"
   ]
  },
  {
   "cell_type": "code",
   "execution_count": null,
   "metadata": {},
   "outputs": [],
   "source": [
    "def solve_stroemgren(r0, dt, n_steps):\n",
    "    t = np.linspace(0, n_steps*dt, n_steps+1)\n",
    "    r = np.zeros(n_steps+1)\n",
    "    r[0] = r0\n",
    "\n",
    "    for n in range(n_steps):\n",
    "        r[n+1] = crk4_step(lambda t, r: (1 - r**3)/(3*r**2),\n",
    "                           t[n], r[n], dt)\n",
    "\n",
    "    return (t,r)"
   ]
  },
  {
   "cell_type": "code",
   "execution_count": null,
   "metadata": {},
   "outputs": [],
   "source": [
    "%timeit solve_stroemgren(0.01, 1e-3, 10000)"
   ]
  },
  {
   "cell_type": "code",
   "execution_count": null,
   "metadata": {},
   "outputs": [],
   "source": [
    "from stroemgren import stroemgren_step"
   ]
  },
  {
   "cell_type": "code",
   "execution_count": null,
   "metadata": {},
   "outputs": [],
   "source": [
    "def solve_stroemgren(r0, dt, n_steps):\n",
    "    t = np.linspace(0, n_steps*dt, n_steps+1)\n",
    "    r = np.zeros(n_steps+1)\n",
    "    r[0] = r0\n",
    "\n",
    "    for n in range(n_steps):\n",
    "        r[n+1] = stroemgren_step(t[n], r[n], dt)\n",
    "\n",
    "    return (t,r)"
   ]
  },
  {
   "cell_type": "code",
   "execution_count": null,
   "metadata": {},
   "outputs": [],
   "source": [
    "%timeit solve_stroemgren(0.01, 1e-3, 10000)"
   ]
  },
  {
   "cell_type": "code",
   "execution_count": null,
   "metadata": {},
   "outputs": [],
   "source": []
  }
 ],
 "metadata": {
  "kernelspec": {
   "display_name": "Python 3",
   "language": "python",
   "name": "python3"
  },
  "language_info": {
   "codemirror_mode": {
    "name": "ipython",
    "version": 3
   },
   "file_extension": ".py",
   "mimetype": "text/x-python",
   "name": "python",
   "nbconvert_exporter": "python",
   "pygments_lexer": "ipython3",
   "version": "3.7.9"
  }
 },
 "nbformat": 4,
 "nbformat_minor": 2
}
