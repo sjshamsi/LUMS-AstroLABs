{
 "cells": [
  {
   "cell_type": "markdown",
   "id": "0fb945a7",
   "metadata": {},
   "source": [
    "# Functions, Methods, and Procedures\n",
    "\n",
    "### Overview\n",
    "\n",
    "**Time:** 30 minutes\n",
    "\n",
    "**Questions:**\n",
    "- How can I store many values together using different Python datatypes and datastructures?\n",
    "- What are some common ways to manipulate `str` and `list` variables?\n",
    "- How can I do the same operations on many different values?\n",
    "\n",
    "**Objectives:**\n",
    "- Explain what iterables are.\n",
    "- Apply contatination, slicing etc. through indexing.\n",
    "- Use iterables in Python loops.\n",
    "\n",
    "**Reading**\n",
    "- Amos et. al. *Python Basics: A Practical Introduction to Python 3*. Pages 65-81, 150-159, 241-253.\n",
    "- _optional_ Amos et. al. *Python Basics: A Practical Introduction to Python 3*. Pages 82-104."
   ]
  },
  {
   "cell_type": "code",
   "execution_count": null,
   "id": "770bf2ea",
   "metadata": {},
   "outputs": [],
   "source": []
  }
 ],
 "metadata": {
  "kernelspec": {
   "display_name": "Python 3 (ipykernel)",
   "language": "python",
   "name": "python3"
  },
  "language_info": {
   "codemirror_mode": {
    "name": "ipython",
    "version": 3
   },
   "file_extension": ".py",
   "mimetype": "text/x-python",
   "name": "python",
   "nbconvert_exporter": "python",
   "pygments_lexer": "ipython3",
   "version": "3.9.13"
  }
 },
 "nbformat": 4,
 "nbformat_minor": 5
}
